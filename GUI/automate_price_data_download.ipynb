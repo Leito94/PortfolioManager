{
 "cells": [
  {
   "cell_type": "code",
   "execution_count": 38,
   "metadata": {},
   "outputs": [],
   "source": [
    "import pandas as pd\n",
    "import json\n",
    "import yahoo_fin.stock_info as si\n",
    "import datetime"
   ]
  },
  {
   "cell_type": "code",
   "execution_count": 39,
   "metadata": {},
   "outputs": [],
   "source": [
    "price_data = pd.read_csv(\"../relevant_price_data_from_2016.csv\", index_col = 0)"
   ]
  },
  {
   "cell_type": "code",
   "execution_count": 41,
   "metadata": {},
   "outputs": [],
   "source": [
    "\n",
    "\n",
    "# get the latest date + 1\n",
    "latest_date = price_data.date.max()\n",
    "latest_date = datetime.datetime.strptime(latest_date, '%Y-%m-%d')\n",
    "latest_date += datetime.timedelta(days=1)\n",
    "latest_date = latest_date.strftime(\"%Y-%m-%d\")\n",
    "\n",
    "# date today\n",
    "today = datetime.datetime.today().strftime(\"%Y-%m-%d\")\n",
    "\n",
    "# all the tickers\n",
    "tickers = price_data.ticker.unique()\n",
    "\n",
    "price_data_list = []\n",
    "count = 0\n",
    "\n",
    "for ticker in tickers:\n",
    "    try:\n",
    "        ticker_data = si.get_data(ticker, start_date=latest_date, end_date=today)\n",
    "        ticker_data[\"ticker\"] = ticker\n",
    "        price_data_list.append(ticker_data)\n",
    "        count += 1\n",
    "        if count % 200 == 0:\n",
    "            print(count)\n",
    "    except:\n",
    "        print(\"could not find price_data for \" + ticker)\n",
    "        count += 1\n",
    "        if count % 200 == 0:\n",
    "            print(count)\n",
    "\n",
    "# concat the data\n",
    "new_data = pd.concat(price_data_list)\n",
    "# get relevant columns\n",
    "tickers_data = new_data[[\"ticker\", \"adjclose\"]]\n",
    "\n",
    "# correct the names\n",
    "tickers_data.insert(0, \"date\", new_data.index)\n",
    "tickers_data.columns = price_data.columns\n",
    "\n",
    "# add the data together\n",
    "current_price_data = price_data.append(tickers_data)\n",
    "\n",
    "# save df \n",
    "#current_price_data.to_csv(\"../relevant_price_data_from_2016.csv\")"
   ]
  },
  {
   "cell_type": "code",
   "execution_count": 42,
   "metadata": {},
   "outputs": [
    {
     "name": "stdout",
     "output_type": "stream",
     "text": [
      "<class 'pandas.core.frame.DataFrame'>\n",
      "DatetimeIndex: 1386 entries, 2021-01-26 to 2021-02-12\n",
      "Data columns (total 3 columns):\n",
      " #   Column     Non-Null Count  Dtype         \n",
      "---  ------     --------------  -----         \n",
      " 0   date       1386 non-null   datetime64[ns]\n",
      " 1   ticker     1386 non-null   object        \n",
      " 2   adj_close  1378 non-null   float64       \n",
      "dtypes: datetime64[ns](1), float64(1), object(1)\n",
      "memory usage: 43.3+ KB\n"
     ]
    }
   ],
   "source": [
    "tickers_data.info()"
   ]
  },
  {
   "cell_type": "code",
   "execution_count": 46,
   "metadata": {},
   "outputs": [
    {
     "name": "stderr",
     "output_type": "stream",
     "text": [
      "C:\\Users\\Leonhard\\anaconda3\\lib\\site-packages\\pandas\\core\\generic.py:5303: SettingWithCopyWarning: \n",
      "A value is trying to be set on a copy of a slice from a DataFrame.\n",
      "Try using .loc[row_indexer,col_indexer] = value instead\n",
      "\n",
      "See the caveats in the documentation: https://pandas.pydata.org/pandas-docs/stable/user_guide/indexing.html#returning-a-view-versus-a-copy\n",
      "  self[name] = value\n"
     ]
    }
   ],
   "source": []
  },
  {
   "cell_type": "code",
   "execution_count": 47,
   "metadata": {},
   "outputs": [
    {
     "name": "stdout",
     "output_type": "stream",
     "text": [
      "<class 'pandas.core.frame.DataFrame'>\n",
      "DatetimeIndex: 1386 entries, 2021-01-26 to 2021-02-12\n",
      "Data columns (total 3 columns):\n",
      " #   Column     Non-Null Count  Dtype  \n",
      "---  ------     --------------  -----  \n",
      " 0   date       1386 non-null   object \n",
      " 1   ticker     1386 non-null   object \n",
      " 2   adj_close  1378 non-null   float64\n",
      "dtypes: float64(1), object(2)\n",
      "memory usage: 43.3+ KB\n"
     ]
    }
   ],
   "source": [
    "tickers_data.info()"
   ]
  },
  {
   "cell_type": "code",
   "execution_count": 29,
   "metadata": {},
   "outputs": [
    {
     "name": "stdout",
     "output_type": "stream",
     "text": [
      "<class 'pandas.core.frame.DataFrame'>\n",
      "DatetimeIndex: 140 entries, 2021-01-26 to 2021-02-12\n",
      "Data columns (total 3 columns):\n",
      " #   Column     Non-Null Count  Dtype         \n",
      "---  ------     --------------  -----         \n",
      " 0   date       140 non-null    datetime64[ns]\n",
      " 1   ticker     140 non-null    object        \n",
      " 2   adj_close  140 non-null    float64       \n",
      "dtypes: datetime64[ns](1), float64(1), object(1)\n",
      "memory usage: 4.4+ KB\n"
     ]
    }
   ],
   "source": [
    "tickers_data.info()"
   ]
  },
  {
   "cell_type": "code",
   "execution_count": 34,
   "metadata": {},
   "outputs": [],
   "source": [
    "tickers_data.date = pd.to_numeric(tickers_data.loc[:, \"date\"])"
   ]
  },
  {
   "cell_type": "code",
   "execution_count": 35,
   "metadata": {},
   "outputs": [
    {
     "data": {
      "text/html": [
       "<div>\n",
       "<style scoped>\n",
       "    .dataframe tbody tr th:only-of-type {\n",
       "        vertical-align: middle;\n",
       "    }\n",
       "\n",
       "    .dataframe tbody tr th {\n",
       "        vertical-align: top;\n",
       "    }\n",
       "\n",
       "    .dataframe thead th {\n",
       "        text-align: right;\n",
       "    }\n",
       "</style>\n",
       "<table border=\"1\" class=\"dataframe\">\n",
       "  <thead>\n",
       "    <tr style=\"text-align: right;\">\n",
       "      <th></th>\n",
       "      <th>date</th>\n",
       "      <th>ticker</th>\n",
       "      <th>adj_close</th>\n",
       "    </tr>\n",
       "  </thead>\n",
       "  <tbody>\n",
       "    <tr>\n",
       "      <th>2021-01-26</th>\n",
       "      <td>1611619200000000000</td>\n",
       "      <td>DDD</td>\n",
       "      <td>37.189999</td>\n",
       "    </tr>\n",
       "    <tr>\n",
       "      <th>2021-01-27</th>\n",
       "      <td>1611705600000000000</td>\n",
       "      <td>DDD</td>\n",
       "      <td>42.230000</td>\n",
       "    </tr>\n",
       "    <tr>\n",
       "      <th>2021-01-28</th>\n",
       "      <td>1611792000000000000</td>\n",
       "      <td>DDD</td>\n",
       "      <td>37.990002</td>\n",
       "    </tr>\n",
       "    <tr>\n",
       "      <th>2021-01-29</th>\n",
       "      <td>1611878400000000000</td>\n",
       "      <td>DDD</td>\n",
       "      <td>35.540001</td>\n",
       "    </tr>\n",
       "    <tr>\n",
       "      <th>2021-02-01</th>\n",
       "      <td>1612137600000000000</td>\n",
       "      <td>DDD</td>\n",
       "      <td>38.910000</td>\n",
       "    </tr>\n",
       "    <tr>\n",
       "      <th>...</th>\n",
       "      <td>...</td>\n",
       "      <td>...</td>\n",
       "      <td>...</td>\n",
       "    </tr>\n",
       "    <tr>\n",
       "      <th>2021-02-08</th>\n",
       "      <td>1612742400000000000</td>\n",
       "      <td>ABB</td>\n",
       "      <td>29.080000</td>\n",
       "    </tr>\n",
       "    <tr>\n",
       "      <th>2021-02-09</th>\n",
       "      <td>1612828800000000000</td>\n",
       "      <td>ABB</td>\n",
       "      <td>29.340000</td>\n",
       "    </tr>\n",
       "    <tr>\n",
       "      <th>2021-02-10</th>\n",
       "      <td>1612915200000000000</td>\n",
       "      <td>ABB</td>\n",
       "      <td>29.180000</td>\n",
       "    </tr>\n",
       "    <tr>\n",
       "      <th>2021-02-11</th>\n",
       "      <td>1613001600000000000</td>\n",
       "      <td>ABB</td>\n",
       "      <td>29.260000</td>\n",
       "    </tr>\n",
       "    <tr>\n",
       "      <th>2021-02-12</th>\n",
       "      <td>1613088000000000000</td>\n",
       "      <td>ABB</td>\n",
       "      <td>29.520000</td>\n",
       "    </tr>\n",
       "  </tbody>\n",
       "</table>\n",
       "<p>140 rows × 3 columns</p>\n",
       "</div>"
      ],
      "text/plain": [
       "                           date ticker  adj_close\n",
       "2021-01-26  1611619200000000000    DDD  37.189999\n",
       "2021-01-27  1611705600000000000    DDD  42.230000\n",
       "2021-01-28  1611792000000000000    DDD  37.990002\n",
       "2021-01-29  1611878400000000000    DDD  35.540001\n",
       "2021-02-01  1612137600000000000    DDD  38.910000\n",
       "...                         ...    ...        ...\n",
       "2021-02-08  1612742400000000000    ABB  29.080000\n",
       "2021-02-09  1612828800000000000    ABB  29.340000\n",
       "2021-02-10  1612915200000000000    ABB  29.180000\n",
       "2021-02-11  1613001600000000000    ABB  29.260000\n",
       "2021-02-12  1613088000000000000    ABB  29.520000\n",
       "\n",
       "[140 rows x 3 columns]"
      ]
     },
     "execution_count": 35,
     "metadata": {},
     "output_type": "execute_result"
    }
   ],
   "source": [
    "tickers_data"
   ]
  },
  {
   "cell_type": "code",
   "execution_count": 48,
   "metadata": {},
   "outputs": [
    {
     "data": {
      "text/plain": [
       "'2021-02-12'"
      ]
     },
     "execution_count": 48,
     "metadata": {},
     "output_type": "execute_result"
    }
   ],
   "source": [
    "data = pd.read_csv(\"../relevant_price_data_from_2016.csv\")\n",
    "data.date.max()"
   ]
  },
  {
   "cell_type": "code",
   "execution_count": null,
   "metadata": {},
   "outputs": [],
   "source": []
  }
 ],
 "metadata": {
  "kernelspec": {
   "display_name": "Python 3",
   "language": "python",
   "name": "python3"
  },
  "language_info": {
   "codemirror_mode": {
    "name": "ipython",
    "version": 3
   },
   "file_extension": ".py",
   "mimetype": "text/x-python",
   "name": "python",
   "nbconvert_exporter": "python",
   "pygments_lexer": "ipython3",
   "version": "3.7.6"
  }
 },
 "nbformat": 4,
 "nbformat_minor": 4
}
