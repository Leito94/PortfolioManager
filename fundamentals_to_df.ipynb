{
 "cells": [
  {
   "cell_type": "code",
   "execution_count": 19,
   "metadata": {},
   "outputs": [],
   "source": [
    "import pandas as pd\n",
    "import json\n",
    "import numpy as np"
   ]
  },
  {
   "cell_type": "code",
   "execution_count": 3,
   "metadata": {},
   "outputs": [],
   "source": [
    "at = pd.read_csv(\"total_assets.csv\", index_col=0)\n",
    "so = pd.read_csv(\"shares_outstanding.csv\", index_col=0)\n",
    "op = pd.read_csv(\"operating_income.csv\", index_col=0)\n",
    "with open(\"relevant_trading_212_tickers.json\", \"r\") as f:\n",
    "    tickers = json.load(f)"
   ]
  },
  {
   "cell_type": "code",
   "execution_count": 4,
   "metadata": {},
   "outputs": [
    {
     "data": {
      "text/plain": [
       "18934"
      ]
     },
     "execution_count": 4,
     "metadata": {},
     "output_type": "execute_result"
    }
   ],
   "source": [
    "len(op)"
   ]
  },
  {
   "cell_type": "code",
   "execution_count": 20,
   "metadata": {},
   "outputs": [],
   "source": [
    "ticks = [] # just to ocntrol\n",
    "at_list = [] # append at's here\n",
    "op_list = [] # append op's here\n",
    "so_list = [] # append so's here\n",
    "dates = []\n",
    "for ticker in tickers:\n",
    "    for date in op[op.ticker == ticker][\"endDate\"].unique():\n",
    "        try:\n",
    "            ticker_op = op[(op.endDate == date) & (op.ticker == ticker)][\"operating_income\"].item()\n",
    "            op_list.append(ticker_op)\n",
    "        except:\n",
    "            op_list.append(np.nan)\n",
    "        try:\n",
    "            ticker_at = at[(at.endDate == date) & (at.ticker == ticker)][\"totalAssets\"].item()\n",
    "            at_list.append(ticker_at)\n",
    "            \n",
    "        except:\n",
    "            at_list.append(np.nan)\n",
    "        \n",
    "        try:\n",
    "            ticker_so = so[(so.endDate == date) & (so.ticker == ticker)][\"common_stock\"].item()\n",
    "            so_list.append(ticker_so)\n",
    "        except:\n",
    "            so_list.append(np.nan)\n",
    "            \n",
    "            \n",
    "        ticks.append(ticker)\n",
    "        dates.append(date)\n",
    "\n",
    "    \n",
    "data = pd.DataFrame({\n",
    "    \"date\" : dates,\n",
    "    \"ticker\" : ticks,\n",
    "    \"at\" : at_list,\n",
    "    \"op\" : op_list,\n",
    "    \"so\" : so_list\n",
    "})       \n",
    "    \n",
    "\n",
    "\n"
   ]
  },
  {
   "cell_type": "code",
   "execution_count": 43,
   "metadata": {},
   "outputs": [],
   "source": [
    "data.to_csv(\"fundamentals.csv\")"
   ]
  }
 ],
 "metadata": {
  "kernelspec": {
   "display_name": "Python 3",
   "language": "python",
   "name": "python3"
  },
  "language_info": {
   "codemirror_mode": {
    "name": "ipython",
    "version": 3
   },
   "file_extension": ".py",
   "mimetype": "text/x-python",
   "name": "python",
   "nbconvert_exporter": "python",
   "pygments_lexer": "ipython3",
   "version": "3.7.6"
  }
 },
 "nbformat": 4,
 "nbformat_minor": 4
}
