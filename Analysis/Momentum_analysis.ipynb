{
 "cells": [
  {
   "cell_type": "code",
   "execution_count": null,
   "metadata": {},
   "outputs": [],
   "source": []
  },
  {
   "cell_type": "code",
   "execution_count": 31,
   "metadata": {},
   "outputs": [],
   "source": [
    "import numpy as np\n",
    "import pandas as pd\n",
    "import yahoo_fin.stock_info as si\n",
    "import get_all_tickers.get_tickers as gt\n",
    "import yfinance as yf\n",
    "import json\n",
    "import datetime"
   ]
  },
  {
   "cell_type": "code",
   "execution_count": 32,
   "metadata": {},
   "outputs": [],
   "source": [
    "price_data = pd.read_csv(\"../stock_price_data_from_2016.csv\", index_col=0)\n",
    "fundamental_data = pd.read_csv(\"../relevant_fundamentals.csv\", index_col=0)\n",
    "funds = pd.read_csv(\"../fundamentals.csv\", index_col=0)\n",
    "price_data[\"date\"] = price_data.index\n",
    "test_df = price_data[price_data.ticker == \"MSFT\"]\n"
   ]
  },
  {
   "cell_type": "markdown",
   "metadata": {},
   "source": [
    "### write functions"
   ]
  },
  {
   "cell_type": "code",
   "execution_count": 33,
   "metadata": {},
   "outputs": [],
   "source": [
    "def get_funds_date(date, ticker):\n",
    "    # first check if there is a date before the starting date of the analysis\n",
    "    ticker_funds = funds[funds.ticker == ticker]\n",
    "    ticker_funds = ticker_funds.sort_values(by = \"date\", ascending = False)\n",
    "    for date in ticker_funds.date:\n",
    "        if date < start_date:\n",
    "            \n",
    "            day = int(date[-2:])\n",
    "            month = int(date[-5:-3])\n",
    "            year = int(date[:4])\n",
    "            date = datetime.date(year,month,day)\n",
    "            date = date.strftime(\"%Y-%m-%d\")\n",
    "            return date\n",
    "    return np.nan\n",
    "            \n",
    "        \n",
    "\n",
    "def get_correct_date(date, test_df):\n",
    "    day = int(date[:2])\n",
    "    month = int(date[3:5])\n",
    "    year = int(date[-4:])\n",
    "    date = datetime.date(year,month,day)\n",
    "    date = date.strftime(\"%Y-%m-%d\")\n",
    "    while len(test_df[test_df.date == date]) == 0:\n",
    "        if month == 12 and day == 31:\n",
    "            year += 1\n",
    "            day = 1\n",
    "            month = 1\n",
    "            date = datetime.date(year,month,day)\n",
    "            date = date.strftime(\"%Y-%m-%d\")\n",
    "\n",
    "        else:\n",
    "            try:\n",
    "                day += 1\n",
    "                date = datetime.date(year,month,day)\n",
    "                date = date.strftime(\"%Y-%m-%d\")\n",
    "\n",
    "            except:\n",
    "                month += 1\n",
    "                day = 1\n",
    "                date = datetime.date(year,month,day)\n",
    "                date = date.strftime(\"%Y-%m-%d\")\n",
    "    return date"
   ]
  },
  {
   "cell_type": "markdown",
   "metadata": {},
   "source": [
    "### Set date of the analysis"
   ]
  },
  {
   "cell_type": "code",
   "execution_count": 34,
   "metadata": {},
   "outputs": [],
   "source": [
    "start_date = \"01.02.2019\" # this is how a user would input the date\n",
    "end_date = \"01.02.2020\"\n",
    "start_date = get_correct_date(start_date, test_df)\n",
    "end_date = get_correct_date(end_date, test_df)\n",
    "start_date_data = price_data[price_data.date == start_date]"
   ]
  },
  {
   "cell_type": "markdown",
   "metadata": {},
   "source": [
    "#### This function computes the variables date for all tickers"
   ]
  },
  {
   "cell_type": "markdown",
   "metadata": {},
   "source": [
    "funds_dates = []\n",
    "funds_ticker = []\n",
    "funds_at = []\n",
    "funds_op = []\n",
    "funds_so = []\n",
    "prices = []\n",
    "for ticker in funds.ticker.unique():\n",
    "    \n",
    "    rel_date = get_funds_date(start_date, ticker)\n",
    "    try:\n",
    "        funds_at.append(funds[(funds.date == rel_date) & (funds.ticker == ticker)][\"at\"].item())\n",
    "    except:\n",
    "        funds_at.append(np.nan)\n",
    "    try:\n",
    "        funds_op.append(funds[(funds.date == rel_date) & (funds.ticker == ticker)][\"op\"].item())\n",
    "    except:\n",
    "        funds_op.append(np.nan)\n",
    "    try:\n",
    "        funds_so.append(funds[(funds.date == rel_date) & (funds.ticker == ticker)][\"so\"].item())\n",
    "    except:\n",
    "        funds_so.append(np.nan)\n",
    "    try:\n",
    "        prices.append(start_date_data[start_date_data.ticker == ticker][\"adjclose\"].item())\n",
    "    except:\n",
    "        prices.append(np.nan)\n",
    "    \n",
    "    funds_dates.append(rel_date)\n",
    "    funds_ticker.append(ticker)\n",
    "    \n",
    "fund_df = pd.DataFrame({\n",
    "    \"ticker\" : funds_ticker,\n",
    "    \"date\" : funds_dates,\n",
    "    \"at\" : funds_at,\n",
    "    \"op\" : funds_op,\n",
    "    \"so\" : funds_so,\n",
    "    \"adjclose\" : prices\n",
    "})\n",
    "\n",
    "fund_df\n"
   ]
  },
  {
   "cell_type": "markdown",
   "metadata": {},
   "source": [
    "### Add new variables"
   ]
  },
  {
   "cell_type": "markdown",
   "metadata": {},
   "source": [
    "# market value\n",
    "fund_df[\"mar_cap\"] = fund_df.so * fund_df.adjclose"
   ]
  },
  {
   "cell_type": "markdown",
   "metadata": {},
   "source": [
    "# book-to-market\n",
    "fund_df[\"beme\"] = fund_df[\"at\"]/fund_df[\"mar_cap\"]"
   ]
  },
  {
   "cell_type": "markdown",
   "metadata": {},
   "source": [
    "# op to at\n",
    "fund_df[\"prof\"] = fund_df[\"op\"]/fund_df[\"at\"]"
   ]
  },
  {
   "cell_type": "markdown",
   "metadata": {},
   "source": [
    "### Now compute the momentum"
   ]
  },
  {
   "cell_type": "code",
   "execution_count": 35,
   "metadata": {},
   "outputs": [],
   "source": [
    "# two dataframes\n",
    "start_price = price_data[price_data.date == start_date]\n",
    "end_price = price_data[price_data.date == end_date]"
   ]
  },
  {
   "cell_type": "code",
   "execution_count": 36,
   "metadata": {},
   "outputs": [],
   "source": [
    "momentum_list = []\n",
    "mom_ticker_list = []\n",
    "for ticker in start_price.ticker:\n",
    "    try:\n",
    "        date_price = start_price[start_price.ticker == ticker][:1][\"adjclose\"].item()\n",
    "        today_price = end_price[end_price.ticker == ticker][:1][\"adjclose\"].item()\n",
    "        momentum = today_price - date_price\n",
    "        momentum_list.append(momentum)\n",
    "        mom_ticker_list.append(ticker)\n",
    "    except:\n",
    "        pass"
   ]
  },
  {
   "cell_type": "code",
   "execution_count": 37,
   "metadata": {},
   "outputs": [],
   "source": [
    "df = pd.DataFrame({\n",
    "    \"ticker\" : mom_ticker_list,\n",
    "    \"momentum\" : momentum_list\n",
    "})\n",
    "\n",
    "df = df.sort_values(by = \"momentum\", ascending = False)\n",
    "df.reset_index(drop = True, inplace = True)\n",
    "momentum_stocks = df[:50][\"ticker\"].to_list()"
   ]
  },
  {
   "cell_type": "markdown",
   "metadata": {},
   "source": [
    "value_stocks_df = fund_df.sort_values(by = \"beme\", ascending = False)\n",
    "profit_stocks_df = fund_df.sort_values(by = \"op\", ascending = False)"
   ]
  },
  {
   "cell_type": "markdown",
   "metadata": {},
   "source": [
    "value_stocks_df = value_stocks_df[value_stocks_df.ticker.isin(trading_212_tickers)]\n",
    "value_stocks_df.reset_index(drop = True, inplace = True)\n",
    "profit_stocks_df = profit_stocks_df[profit_stocks_df.ticker.isin(trading_212_tickers)]\n",
    "profit_stocks_df.reset_index(drop = True, inplace = True)"
   ]
  },
  {
   "cell_type": "markdown",
   "metadata": {},
   "source": [
    "value_stocks = value_stocks_df[:15][\"ticker\"].to_list()"
   ]
  },
  {
   "cell_type": "markdown",
   "metadata": {},
   "source": [
    "profit_stocks = profit_stocks_df[:15][\"ticker\"].to_list()"
   ]
  },
  {
   "cell_type": "markdown",
   "metadata": {},
   "source": [
    "print(momentum_stocks, value_stocks, profit_stocks)"
   ]
  },
  {
   "cell_type": "code",
   "execution_count": 38,
   "metadata": {},
   "outputs": [],
   "source": [
    "import pandas as pd\n",
    "import random\n",
    "import yahoo_fin.stock_info as si\n",
    "import yfinance as yf\n",
    "import json\n",
    "import csv\n",
    "import re\n",
    "from io import StringIO\n",
    "from bs4 import BeautifulSoup as bs\n",
    "import requests\n",
    "import get_all_tickers.get_tickers as gt\n",
    "from lxml import html\n",
    "import matplotlib.pyplot as plt\n",
    "import json"
   ]
  },
  {
   "cell_type": "markdown",
   "metadata": {},
   "source": [
    "## Scrape Sector and Country to diversify"
   ]
  },
  {
   "cell_type": "markdown",
   "metadata": {},
   "source": [
    "Create Dataframes"
   ]
  },
  {
   "cell_type": "code",
   "execution_count": 39,
   "metadata": {},
   "outputs": [],
   "source": [
    "# get a list of all countries\n",
    "\n",
    "with open(\"../countries.json\", \"r\") as f:\n",
    "    countries = json.load(f)"
   ]
  },
  {
   "cell_type": "markdown",
   "metadata": {},
   "source": [
    "1. Value Stocks"
   ]
  },
  {
   "cell_type": "markdown",
   "metadata": {},
   "source": [
    "name_list = []\n",
    "\n",
    "for ticker in value_stocks:\n",
    "    try:\n",
    "        url_shares_outstanding = \"https://finance.yahoo.com/quote/{}/key-statistics?p={}\"\n",
    "        response = requests.get(url_shares_outstanding.format(ticker, ticker))        \n",
    "        soup = bs(response.text, \"html.parser\")\n",
    "        pattern = re.compile(r\"\\s--\\sData\\s--\\s\")\n",
    "        script_data = soup.find(\"script\", text = pattern).contents[0]\n",
    "        start = script_data.find(\"context\")-2\n",
    "        json_data = json.loads(script_data[start:-12])\n",
    "        short_name = json_data[\"context\"][\"dispatcher\"][\"stores\"][\"QuoteSummaryStore\"][\"quoteType\"][\"shortName\"]\n",
    "        name_list.append(short_name)\n",
    "    except:\n",
    "        name_list.append(np.nan)\n",
    "\n",
    "country_list = []\n",
    "\n",
    "for ticker in value_stocks:\n",
    "    try:\n",
    "        url = \"https://finance.yahoo.com/quote/{}/profile?p={}\"\n",
    "\n",
    "        r = requests.get(url.format(ticker, ticker))\n",
    "        soup = bs(r.content)\n",
    "        info = soup.find_all(\"p\", attrs = {\"class\", \"D(ib) W(47.727%) Pend(40px)\"})\n",
    "        for c in countries:\n",
    "            if c in info[0].text:\n",
    "                country_list.append(c)\n",
    "                break\n",
    "    except:\n",
    "        country_list.append(np.nan)\n",
    "\n",
    "industry_list = []\n",
    "\n",
    "for ticker in value_stocks:\n",
    "    try:\n",
    "        url = \"https://finance.yahoo.com/quote/{}/profile?p={}\"\n",
    "        response = requests.get(url.format(ticker, ticker))        \n",
    "        soup = bs(response.text, \"lxml\")\n",
    "\n",
    "        industry = soup.find_all(\"span\", {\"class\" : \"Fw(600)\"})[0].text\n",
    "        industry_list.append(industry)\n",
    "    except:\n",
    "        industry_list.append(np.nan)\n",
    "\n",
    "value_df = pd.DataFrame({\n",
    "    \"ticker\" : value_stocks,\n",
    "    \"names\" : name_list,\n",
    "    \"industry\" : industry_list,\n",
    "    \"country\" : country_list\n",
    "\n",
    "})"
   ]
  },
  {
   "cell_type": "markdown",
   "metadata": {},
   "source": [
    "2. Momentum Stocks"
   ]
  },
  {
   "cell_type": "code",
   "execution_count": 40,
   "metadata": {},
   "outputs": [],
   "source": [
    "name_list = []\n",
    "\n",
    "for ticker in momentum_stocks:\n",
    "    try:\n",
    "        url = \"https://finance.yahoo.com/quote/{}/key-statistics?p={}\"\n",
    "        response = requests.get(url.format(ticker, ticker))        \n",
    "        soup = bs(response.text, \"html.parser\")\n",
    "        pattern = re.compile(r\"\\s--\\sData\\s--\\s\")\n",
    "        script_data = soup.find(\"script\", text = pattern).contents[0]\n",
    "        start = script_data.find(\"context\")-2\n",
    "        json_data = json.loads(script_data[start:-12])\n",
    "        short_name = json_data[\"context\"][\"dispatcher\"][\"stores\"][\"QuoteSummaryStore\"][\"quoteType\"][\"shortName\"]\n",
    "        name_list.append(short_name)\n",
    "    except:\n",
    "        name_list.append(np.nan)\n",
    "\n",
    "country_list = []\n",
    "\n",
    "for ticker in momentum_stocks:\n",
    "    try:\n",
    "        url = \"https://finance.yahoo.com/quote/{}/profile?p={}\"\n",
    "\n",
    "        r = requests.get(url.format(ticker, ticker))\n",
    "        soup = bs(r.content)\n",
    "        info = soup.find_all(\"p\", attrs = {\"class\", \"D(ib) W(47.727%) Pend(40px)\"})\n",
    "        info[0].text\n",
    "        for c in countries:\n",
    "            if c in info[0].text:\n",
    "                country_list.append(c)\n",
    "                break\n",
    "    except:\n",
    "        country_list.append(np.nan)\n",
    "\n",
    "industry_list = []\n",
    "\n",
    "for ticker in momentum_stocks:\n",
    "    try:\n",
    "        url = \"https://finance.yahoo.com/quote/{}/profile?p={}\"\n",
    "        response = requests.get(url.format(ticker, ticker))        \n",
    "        soup = bs(response.text, \"lxml\")\n",
    "\n",
    "        industry = soup.find_all(\"span\", {\"class\" : \"Fw(600)\"})[0].text\n",
    "        industry_list.append(industry)\n",
    "    except:\n",
    "        industry_list.append(np.nan)\n",
    "\n",
    "momentum_df = pd.DataFrame({\n",
    "    \"ticker\" : momentum_stocks,\n",
    "    \"names\" : name_list,\n",
    "    \"industry\" : industry_list,\n",
    "    \"country\" : country_list\n",
    "\n",
    "})"
   ]
  },
  {
   "cell_type": "code",
   "execution_count": 41,
   "metadata": {},
   "outputs": [],
   "source": [
    "momentum_df = momentum_df.dropna(how = \"any\")"
   ]
  },
  {
   "cell_type": "markdown",
   "metadata": {},
   "source": [
    "3. Profit Stocks"
   ]
  },
  {
   "cell_type": "markdown",
   "metadata": {},
   "source": [
    "name_list = []\n",
    "\n",
    "for ticker in profit_stocks:\n",
    "    try:\n",
    "        url_shares_outstanding = \"https://finance.yahoo.com/quote/{}/key-statistics?p={}\"\n",
    "        response = requests.get(url_shares_outstanding.format(ticker, ticker))        \n",
    "        soup = bs(response.text, \"html.parser\")\n",
    "        pattern = re.compile(r\"\\s--\\sData\\s--\\s\")\n",
    "        script_data = soup.find(\"script\", text = pattern).contents[0]\n",
    "        start = script_data.find(\"context\")-2\n",
    "        json_data = json.loads(script_data[start:-12])\n",
    "        short_name = json_data[\"context\"][\"dispatcher\"][\"stores\"][\"QuoteSummaryStore\"][\"quoteType\"][\"shortName\"]\n",
    "        name_list.append(short_name)\n",
    "    except:\n",
    "        name_list.append(np.nan)\n",
    "\n",
    "country_list = []\n",
    "\n",
    "for ticker in profit_stocks:\n",
    "    try:\n",
    "        url = \"https://finance.yahoo.com/quote/{}/profile?p={}\"\n",
    "\n",
    "        r = requests.get(url.format(ticker, ticker))\n",
    "        soup = bs(r.content)\n",
    "        info = soup.find_all(\"p\", attrs = {\"class\", \"D(ib) W(47.727%) Pend(40px)\"})\n",
    "        info[0].text\n",
    "        for c in countries:\n",
    "            if c in info[0].text:\n",
    "                country_list.append(c)\n",
    "                break\n",
    "    except:\n",
    "        country_list.append(np.nan)\n",
    "\n",
    "industry_list = []\n",
    "\n",
    "for ticker in profit_stocks:\n",
    "    try:\n",
    "        url = \"https://finance.yahoo.com/quote/{}/profile?p={}\"\n",
    "        response = requests.get(url.format(ticker, ticker))        \n",
    "        soup = bs(response.text, \"lxml\")\n",
    "\n",
    "        industry = soup.find_all(\"span\", {\"class\" : \"Fw(600)\"})[0].text\n",
    "        industry_list.append(industry)\n",
    "    except:\n",
    "        industry_list.append(np.nan)\n",
    "\n",
    "profit_df = pd.DataFrame({\n",
    "    \"ticker\" : profit_stocks,\n",
    "    \"names\" : name_list,\n",
    "    \"industry\" : industry_list,\n",
    "    \"country\" : country_list\n",
    "\n",
    "})"
   ]
  },
  {
   "cell_type": "markdown",
   "metadata": {},
   "source": [
    "# Now lets form a diversified Portfolio"
   ]
  },
  {
   "cell_type": "markdown",
   "metadata": {},
   "source": [
    "### It should consist of 10-15 stocks, diversified over industry and country"
   ]
  },
  {
   "cell_type": "code",
   "execution_count": 42,
   "metadata": {},
   "outputs": [],
   "source": [
    "portfolio_df = pd.DataFrame(columns=[\"ticker\", \"names\", \"industry\", \"country\"])\n",
    "index = 0\n",
    "mom = 0\n",
    "val = 0\n",
    "pro = 0\n",
    "origin_list = [] # list for the origins of the stocks\n",
    "c_list = []\n",
    "i_list = []\n",
    "\n",
    "while (len(portfolio_df) < 15) & (index < 50):\n",
    "    \n",
    "    try:\n",
    "        if momentum_df.loc[index][\"names\"] not in portfolio_df.names.to_list() and c_list.count(momentum_df.loc[index][\"country\"]) < 5 and i_list.count(momentum_df.loc[index][\"industry\"]) < 2:\n",
    "            \n",
    "            portfolio_df = portfolio_df.append(momentum_df.loc[index])\n",
    "            c_list.append(momentum_df.loc[index][\"country\"])\n",
    "            i_list.append(momentum_df.loc[index][\"industry\"])\n",
    "            #mom += 1\n",
    "            origin_list.append(\"mom\")\n",
    "            index += 1\n",
    "        else:\n",
    "            index += 1\n",
    "    except:\n",
    "        index += 1\n",
    "portfolio_df[\"origin\"] = origin_list"
   ]
  },
  {
   "cell_type": "markdown",
   "metadata": {},
   "source": [
    "\n",
    "            \n",
    "            \n",
    "\n",
    "            \n",
    "\n",
    "        \n",
    "            \n",
    "        elif val <= 3 and value_df.loc[index][\"names\"] not in portfolio_df.names.to_list() and c_list.count(value_df.loc[index][\"country\"]) < 5 and i_list.count(value_df.loc[index][\"industry\"]) < 2:\n",
    "            \n",
    "            portfolio_df = portfolio_df.append(value_df.loc[index])\n",
    "\n",
    "            c_list.append(value_df.loc[index][\"country\"])\n",
    "            i_list.append(value_df.loc[index][\"industry\"])\n",
    "            val += 1\n",
    "            origin_list.append(\"val\")\n",
    "        \n",
    "            \n",
    "        elif pro <= 3 and profit_df.loc[index][\"names\"] not in portfolio_df.names.to_list() and c_list.count(profit_df.loc[index][\"country\"]) < 5 and i_list.count(profit_df.loc[index][\"industry\"]) < 2:\n",
    "            \n",
    "            portfolio_df = portfolio_df.append(profit_df.loc[index])\n",
    "\n",
    "            c_list.append(profit_df.loc[index][\"country\"])\n",
    "            i_list.append(profit_df.loc[index][\"industry\"])\n",
    "            pro += 1\n",
    "            origin_list.append(\"pro\")\n",
    "        else:\n",
    "            index += 1\n",
    "        \n",
    "        \n",
    "    except:\n",
    "        index += 1\n",
    "    \n",
    "portfolio_df[\"origin\"] = origin_list\n",
    "    "
   ]
  },
  {
   "cell_type": "markdown",
   "metadata": {},
   "source": [
    "### Check if there are NaN adjusted closes"
   ]
  },
  {
   "cell_type": "code",
   "execution_count": 43,
   "metadata": {},
   "outputs": [
    {
     "data": {
      "text/html": [
       "<div>\n",
       "<style scoped>\n",
       "    .dataframe tbody tr th:only-of-type {\n",
       "        vertical-align: middle;\n",
       "    }\n",
       "\n",
       "    .dataframe tbody tr th {\n",
       "        vertical-align: top;\n",
       "    }\n",
       "\n",
       "    .dataframe thead th {\n",
       "        text-align: right;\n",
       "    }\n",
       "</style>\n",
       "<table border=\"1\" class=\"dataframe\">\n",
       "  <thead>\n",
       "    <tr style=\"text-align: right;\">\n",
       "      <th></th>\n",
       "      <th>ticker</th>\n",
       "      <th>names</th>\n",
       "      <th>industry</th>\n",
       "      <th>country</th>\n",
       "      <th>origin</th>\n",
       "    </tr>\n",
       "  </thead>\n",
       "  <tbody>\n",
       "    <tr>\n",
       "      <th>0</th>\n",
       "      <td>PTRS</td>\n",
       "      <td>Partners Bancorp</td>\n",
       "      <td>Financial Services</td>\n",
       "      <td>United States</td>\n",
       "      <td>mom</td>\n",
       "    </tr>\n",
       "    <tr>\n",
       "      <th>1</th>\n",
       "      <td>NVR</td>\n",
       "      <td>NVR, Inc.</td>\n",
       "      <td>Consumer Cyclical</td>\n",
       "      <td>United States</td>\n",
       "      <td>mom</td>\n",
       "    </tr>\n",
       "    <tr>\n",
       "      <th>2</th>\n",
       "      <td>CABO</td>\n",
       "      <td>Cable One, Inc.</td>\n",
       "      <td>Communication Services</td>\n",
       "      <td>United States</td>\n",
       "      <td>mom</td>\n",
       "    </tr>\n",
       "    <tr>\n",
       "      <th>3</th>\n",
       "      <td>AMZN</td>\n",
       "      <td>Amazon.com, Inc.</td>\n",
       "      <td>Consumer Cyclical</td>\n",
       "      <td>United States</td>\n",
       "      <td>mom</td>\n",
       "    </tr>\n",
       "    <tr>\n",
       "      <th>4</th>\n",
       "      <td>GOOG</td>\n",
       "      <td>Alphabet Inc.</td>\n",
       "      <td>Communication Services</td>\n",
       "      <td>United States</td>\n",
       "      <td>mom</td>\n",
       "    </tr>\n",
       "    <tr>\n",
       "      <th>5</th>\n",
       "      <td>SHOP</td>\n",
       "      <td>Shopify Inc.</td>\n",
       "      <td>Technology</td>\n",
       "      <td>Canada</td>\n",
       "      <td>mom</td>\n",
       "    </tr>\n",
       "    <tr>\n",
       "      <th>6</th>\n",
       "      <td>WTM</td>\n",
       "      <td>White Mountains Insurance Group</td>\n",
       "      <td>Financial Services</td>\n",
       "      <td>Bermuda</td>\n",
       "      <td>mom</td>\n",
       "    </tr>\n",
       "    <tr>\n",
       "      <th>7</th>\n",
       "      <td>GLPG</td>\n",
       "      <td>Galapagos NV</td>\n",
       "      <td>Healthcare</td>\n",
       "      <td>Belgium</td>\n",
       "      <td>mom</td>\n",
       "    </tr>\n",
       "    <tr>\n",
       "      <th>8</th>\n",
       "      <td>ASML</td>\n",
       "      <td>ASML Holding N.V. - New York Re</td>\n",
       "      <td>Technology</td>\n",
       "      <td>Netherlands</td>\n",
       "      <td>mom</td>\n",
       "    </tr>\n",
       "  </tbody>\n",
       "</table>\n",
       "</div>"
      ],
      "text/plain": [
       "  ticker                            names                industry  \\\n",
       "0   PTRS                 Partners Bancorp      Financial Services   \n",
       "1    NVR                        NVR, Inc.       Consumer Cyclical   \n",
       "2   CABO                  Cable One, Inc.  Communication Services   \n",
       "3   AMZN                 Amazon.com, Inc.       Consumer Cyclical   \n",
       "4   GOOG                    Alphabet Inc.  Communication Services   \n",
       "5   SHOP                     Shopify Inc.              Technology   \n",
       "6    WTM  White Mountains Insurance Group      Financial Services   \n",
       "7   GLPG                     Galapagos NV              Healthcare   \n",
       "8   ASML  ASML Holding N.V. - New York Re              Technology   \n",
       "\n",
       "         country origin  \n",
       "0  United States    mom  \n",
       "1  United States    mom  \n",
       "2  United States    mom  \n",
       "3  United States    mom  \n",
       "4  United States    mom  \n",
       "5         Canada    mom  \n",
       "6        Bermuda    mom  \n",
       "7        Belgium    mom  \n",
       "8    Netherlands    mom  "
      ]
     },
     "execution_count": 43,
     "metadata": {},
     "output_type": "execute_result"
    }
   ],
   "source": [
    "portfolio_df.reset_index(drop = True, inplace = True)\n",
    "portfolio_df"
   ]
  },
  {
   "cell_type": "code",
   "execution_count": 44,
   "metadata": {},
   "outputs": [],
   "source": [
    "portfolio_df.to_csv(\"test_portfolio.csv\")\n"
   ]
  },
  {
   "cell_type": "code",
   "execution_count": 45,
   "metadata": {},
   "outputs": [],
   "source": [
    "portfolio_df = pd.read_csv(\"test_portfolio.csv\", index_col=0)"
   ]
  },
  {
   "cell_type": "markdown",
   "metadata": {},
   "source": [
    "## Get historical return of the portfolio"
   ]
  },
  {
   "cell_type": "markdown",
   "metadata": {},
   "source": [
    "get spy data as benchmark and portfolio content data\n"
   ]
  },
  {
   "cell_type": "code",
   "execution_count": 46,
   "metadata": {},
   "outputs": [],
   "source": [
    "today = \"20.11.2020\"\n",
    "today = get_correct_date(today, test_df)\n"
   ]
  },
  {
   "cell_type": "code",
   "execution_count": 47,
   "metadata": {},
   "outputs": [],
   "source": [
    "port_data = pd.DataFrame()\n",
    "\n",
    "for ticker in portfolio_df.ticker:\n",
    "    try:\n",
    "        stock_df = si.get_data(ticker, start_date = end_date, end_date = today)[[ \"adjclose\", \"ticker\"]]\n",
    "        port_data = port_data.append(stock_df)\n",
    "    except:\n",
    "        pass\n",
    "\n",
    "spy = si.get_data(\"spy\", start_date = end_date, end_date = today)[[\"adjclose\", \"ticker\"]]"
   ]
  },
  {
   "cell_type": "code",
   "execution_count": 48,
   "metadata": {},
   "outputs": [],
   "source": [
    "nan_ticker = port_data[port_data.adjclose.isna()][\"ticker\"].unique()\n",
    "\n",
    "port_data = port_data[~port_data.ticker.isin(nan_ticker)]\n",
    "port_data.reset_index(drop = True, inplace = True)"
   ]
  },
  {
   "cell_type": "markdown",
   "metadata": {},
   "source": [
    "calculate returns "
   ]
  },
  {
   "cell_type": "code",
   "execution_count": 49,
   "metadata": {},
   "outputs": [
    {
     "name": "stderr",
     "output_type": "stream",
     "text": [
      "C:\\Users\\Leonhard\\anaconda3\\lib\\site-packages\\ipykernel_launcher.py:12: SettingWithCopyWarning: \n",
      "A value is trying to be set on a copy of a slice from a DataFrame.\n",
      "Try using .loc[row_indexer,col_indexer] = value instead\n",
      "\n",
      "See the caveats in the documentation: https://pandas.pydata.org/pandas-docs/stable/user_guide/indexing.html#returning-a-view-versus-a-copy\n",
      "  if sys.path[0] == '':\n"
     ]
    }
   ],
   "source": [
    "unique_tickers = port_data.ticker.unique()\n",
    "data_df_list = []\n",
    "for ticker in unique_tickers:\n",
    "    return_list = [np.nan]\n",
    "    ticker_df = port_data[port_data.ticker == ticker]\n",
    "    n = 1\n",
    "    ticker_df.reset_index(drop = True, inplace = True)\n",
    "    while n <= len(ticker_df) - 1:\n",
    "        day_ret = ((ticker_df.loc[n][\"adjclose\"] - ticker_df.loc[n-1][\"adjclose\"])/ticker_df.loc[n-1][\"adjclose\"]) * 100\n",
    "        return_list.append(day_ret)\n",
    "        n += 1\n",
    "    ticker_df[\"returns\"] = return_list\n",
    "    data_df_list.append(ticker_df)\n",
    "    "
   ]
  },
  {
   "cell_type": "code",
   "execution_count": 50,
   "metadata": {},
   "outputs": [],
   "source": [
    "rets = []\n",
    "for adj1, adj2 in zip(spy[\"adjclose\"], spy.shift()[\"adjclose\"]):\n",
    "    ret = ((adj1 - adj2)/adj2) * 100\n",
    "    rets.append(ret)\n",
    "\n",
    "spy[\"day_ret\"] = rets"
   ]
  },
  {
   "cell_type": "code",
   "execution_count": 51,
   "metadata": {},
   "outputs": [],
   "source": [
    "kum_ret = []\n",
    "n = 0\n",
    "while n < len(spy):\n",
    "    ret = ((spy.adjclose[n] - spy.adjclose[0])/spy.adjclose[0]) * 100\n",
    "    kum_ret.append(ret)\n",
    "    n += 1\n",
    "spy[\"kum_ret\"] = kum_ret"
   ]
  },
  {
   "cell_type": "code",
   "execution_count": 52,
   "metadata": {},
   "outputs": [
    {
     "name": "stderr",
     "output_type": "stream",
     "text": [
      "C:\\Users\\Leonhard\\anaconda3\\lib\\site-packages\\ipykernel_launcher.py:8: SettingWithCopyWarning: \n",
      "A value is trying to be set on a copy of a slice from a DataFrame.\n",
      "Try using .loc[row_indexer,col_indexer] = value instead\n",
      "\n",
      "See the caveats in the documentation: https://pandas.pydata.org/pandas-docs/stable/user_guide/indexing.html#returning-a-view-versus-a-copy\n",
      "  \n"
     ]
    }
   ],
   "source": [
    "for df in data_df_list:\n",
    "    kum_ret = []\n",
    "    n = 0\n",
    "    while n < len(df):\n",
    "        ret = ((df.adjclose[n] - df.adjclose[0])/df.adjclose[0]) * 100\n",
    "        kum_ret.append(ret)\n",
    "        n += 1\n",
    "    df[\"kum_ret\"] = kum_ret"
   ]
  },
  {
   "cell_type": "code",
   "execution_count": 53,
   "metadata": {},
   "outputs": [
    {
     "name": "stdout",
     "output_type": "stream",
     "text": [
      "204\n",
      "204\n",
      "204\n",
      "204\n",
      "204\n",
      "204\n",
      "204\n",
      "204\n"
     ]
    }
   ],
   "source": [
    "for index, d in enumerate(data_df_list):\n",
    "    print(len(d))"
   ]
  },
  {
   "cell_type": "code",
   "execution_count": 54,
   "metadata": {},
   "outputs": [
    {
     "data": {
      "text/html": [
       "<div>\n",
       "<style scoped>\n",
       "    .dataframe tbody tr th:only-of-type {\n",
       "        vertical-align: middle;\n",
       "    }\n",
       "\n",
       "    .dataframe tbody tr th {\n",
       "        vertical-align: top;\n",
       "    }\n",
       "\n",
       "    .dataframe thead th {\n",
       "        text-align: right;\n",
       "    }\n",
       "</style>\n",
       "<table border=\"1\" class=\"dataframe\">\n",
       "  <thead>\n",
       "    <tr style=\"text-align: right;\">\n",
       "      <th></th>\n",
       "      <th>ticker</th>\n",
       "      <th>names</th>\n",
       "      <th>industry</th>\n",
       "      <th>country</th>\n",
       "      <th>origin</th>\n",
       "    </tr>\n",
       "  </thead>\n",
       "  <tbody>\n",
       "    <tr>\n",
       "      <th>0</th>\n",
       "      <td>PTRS</td>\n",
       "      <td>Partners Bancorp</td>\n",
       "      <td>Financial Services</td>\n",
       "      <td>United States</td>\n",
       "      <td>mom</td>\n",
       "    </tr>\n",
       "    <tr>\n",
       "      <th>1</th>\n",
       "      <td>NVR</td>\n",
       "      <td>NVR, Inc.</td>\n",
       "      <td>Consumer Cyclical</td>\n",
       "      <td>United States</td>\n",
       "      <td>mom</td>\n",
       "    </tr>\n",
       "    <tr>\n",
       "      <th>2</th>\n",
       "      <td>CABO</td>\n",
       "      <td>Cable One, Inc.</td>\n",
       "      <td>Communication Services</td>\n",
       "      <td>United States</td>\n",
       "      <td>mom</td>\n",
       "    </tr>\n",
       "    <tr>\n",
       "      <th>3</th>\n",
       "      <td>AMZN</td>\n",
       "      <td>Amazon.com, Inc.</td>\n",
       "      <td>Consumer Cyclical</td>\n",
       "      <td>United States</td>\n",
       "      <td>mom</td>\n",
       "    </tr>\n",
       "    <tr>\n",
       "      <th>4</th>\n",
       "      <td>GOOG</td>\n",
       "      <td>Alphabet Inc.</td>\n",
       "      <td>Communication Services</td>\n",
       "      <td>United States</td>\n",
       "      <td>mom</td>\n",
       "    </tr>\n",
       "    <tr>\n",
       "      <th>5</th>\n",
       "      <td>SHOP</td>\n",
       "      <td>Shopify Inc.</td>\n",
       "      <td>Technology</td>\n",
       "      <td>Canada</td>\n",
       "      <td>mom</td>\n",
       "    </tr>\n",
       "    <tr>\n",
       "      <th>6</th>\n",
       "      <td>WTM</td>\n",
       "      <td>White Mountains Insurance Group</td>\n",
       "      <td>Financial Services</td>\n",
       "      <td>Bermuda</td>\n",
       "      <td>mom</td>\n",
       "    </tr>\n",
       "    <tr>\n",
       "      <th>7</th>\n",
       "      <td>GLPG</td>\n",
       "      <td>Galapagos NV</td>\n",
       "      <td>Healthcare</td>\n",
       "      <td>Belgium</td>\n",
       "      <td>mom</td>\n",
       "    </tr>\n",
       "    <tr>\n",
       "      <th>8</th>\n",
       "      <td>ASML</td>\n",
       "      <td>ASML Holding N.V. - New York Re</td>\n",
       "      <td>Technology</td>\n",
       "      <td>Netherlands</td>\n",
       "      <td>mom</td>\n",
       "    </tr>\n",
       "  </tbody>\n",
       "</table>\n",
       "</div>"
      ],
      "text/plain": [
       "  ticker                            names                industry  \\\n",
       "0   PTRS                 Partners Bancorp      Financial Services   \n",
       "1    NVR                        NVR, Inc.       Consumer Cyclical   \n",
       "2   CABO                  Cable One, Inc.  Communication Services   \n",
       "3   AMZN                 Amazon.com, Inc.       Consumer Cyclical   \n",
       "4   GOOG                    Alphabet Inc.  Communication Services   \n",
       "5   SHOP                     Shopify Inc.              Technology   \n",
       "6    WTM  White Mountains Insurance Group      Financial Services   \n",
       "7   GLPG                     Galapagos NV              Healthcare   \n",
       "8   ASML  ASML Holding N.V. - New York Re              Technology   \n",
       "\n",
       "         country origin  \n",
       "0  United States    mom  \n",
       "1  United States    mom  \n",
       "2  United States    mom  \n",
       "3  United States    mom  \n",
       "4  United States    mom  \n",
       "5         Canada    mom  \n",
       "6        Bermuda    mom  \n",
       "7        Belgium    mom  \n",
       "8    Netherlands    mom  "
      ]
     },
     "execution_count": 54,
     "metadata": {},
     "output_type": "execute_result"
    }
   ],
   "source": [
    "lenghts = [len(i) for i in data_df_list]\n",
    "max_len = max(lenghts)\n",
    "\n",
    "for index, d in enumerate(data_df_list):\n",
    "    if len(d) < max_len:\n",
    "        data_df_list.pop(index)\n",
    "        \n",
    "portfolio_df"
   ]
  },
  {
   "cell_type": "markdown",
   "metadata": {},
   "source": [
    "## Get live prices"
   ]
  },
  {
   "cell_type": "code",
   "execution_count": 55,
   "metadata": {},
   "outputs": [
    {
     "name": "stdout",
     "output_type": "stream",
     "text": [
      "3075.0\n",
      "4120.22021484375\n",
      "1962.06005859375\n",
      "3195.340087890625\n",
      "1793.18994140625\n",
      "1034.3900146484375\n",
      "962.010009765625\n",
      "125.83999633789062\n",
      "437.7699890136719\n"
     ]
    }
   ],
   "source": [
    "live_prices = []\n",
    "\n",
    "for tick in portfolio_df.ticker:\n",
    "    t = si.get_live_price(tick)\n",
    "    print(t)\n",
    "    live_prices.append(t)\n",
    "    \n",
    "portfolio_df[\"live_price\"] = live_prices"
   ]
  },
  {
   "cell_type": "markdown",
   "metadata": {},
   "source": [
    "If we invested amount x, what are the fractions of the shares we would have to buy if we wanted to equally weight the stocks?"
   ]
  },
  {
   "cell_type": "code",
   "execution_count": 56,
   "metadata": {},
   "outputs": [],
   "source": [
    "investment = 300\n",
    "\n",
    "fraction_list = []\n",
    "\n",
    "for price in live_prices:\n",
    "    fraction = investment/(len(live_prices))/price\n",
    "    fraction_list.append(fraction)\n",
    "    \n",
    "portfolio_df[\"fraction\"] = fraction_list"
   ]
  },
  {
   "cell_type": "code",
   "execution_count": 57,
   "metadata": {},
   "outputs": [],
   "source": [
    "n = 0\n",
    "kum_port_rets = []\n",
    "while n < len(spy):\n",
    "    rets = [data_df_list[m].loc[n][\"kum_ret\"] for m in range(len(data_df_list))]\n",
    "    kum_port_ret = sum(rets)/len(data_df_list)\n",
    "    kum_port_rets.append(kum_port_ret)\n",
    "    n += 1"
   ]
  },
  {
   "cell_type": "code",
   "execution_count": 58,
   "metadata": {},
   "outputs": [],
   "source": [
    "spy[\"kum_port_rets\"] = kum_port_rets"
   ]
  },
  {
   "cell_type": "markdown",
   "metadata": {},
   "source": [
    "#### Add the returns to spy dataframe so we can compare them"
   ]
  },
  {
   "cell_type": "markdown",
   "metadata": {},
   "source": [
    "#### Plot the kum rets and compare them"
   ]
  },
  {
   "cell_type": "code",
   "execution_count": 59,
   "metadata": {},
   "outputs": [
    {
     "data": {
      "text/plain": [
       "Text(0.5, 1.0, 'SPY vs my Portfolio')"
      ]
     },
     "execution_count": 59,
     "metadata": {},
     "output_type": "execute_result"
    },
    {
     "data": {
      "image/png": "[encoded data removed]",
      "text/plain": [
       "<Figure size 432x288 with 1 Axes>"
      ]
     },
     "metadata": {
      "needs_background": "light"
     },
     "output_type": "display_data"
    }
   ],
   "source": [
    "plt.plot(spy.index, spy.kum_ret, \"blue\", label = \"SPY\")\n",
    "plt.plot(spy.index, spy.kum_port_rets, \"red\", label = \"My Portfolio\")\n",
    "plt.legend()\n",
    "plt.xlabel(\"date\")\n",
    "plt.ylabel(\"cumulative return\")\n",
    "plt.title(\"SPY vs my Portfolio\")"
   ]
  }
 ],
 "metadata": {
  "kernelspec": {
   "display_name": "Python 3",
   "language": "python",
   "name": "python3"
  },
  "language_info": {
   "codemirror_mode": {
    "name": "ipython",
    "version": 3
   },
   "file_extension": ".py",
   "mimetype": "text/x-python",
   "name": "python",
   "nbconvert_exporter": "python",
   "pygments_lexer": "ipython3",
   "version": "3.7.6"
  }
 },
 "nbformat": 4,
 "nbformat_minor": 4
}
