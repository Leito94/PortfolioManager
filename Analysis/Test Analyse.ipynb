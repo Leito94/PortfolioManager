{
 "cells": [
  {
   "cell_type": "code",
   "execution_count": 17,
   "metadata": {},
   "outputs": [],
   "source": [
    "import pandas as pd"
   ]
  },
  {
   "cell_type": "markdown",
   "metadata": {},
   "source": [
    "price_data = pd.read_csv(\"stock_data_from_2015.csv\")\n",
    "live_price = pd.read_csv(\"live_price_2020-11-19.csv\")\n",
    "EBIT = pd.read_csv(\"EBIT_data.csv\")\n",
    "AT = pd.read_csv(\"AT_data.csv\")\n",
    "shares_outstanding = pd.read_csv(\"shares_outstanding.csv\")\n",
    "\n",
    "print(len(price_data), len(live_price), len(EBIT), len(AT), len(shares_outstanding))"
   ]
  },
  {
   "cell_type": "markdown",
   "metadata": {},
   "source": [
    "ticker_unique = EBIT.ticker.unique()\n",
    "latest_EBIT = pd.DataFrame()\n",
    "\n",
    "for ticker in ticker_unique:\n",
    "    ticker_df = EBIT[EBIT.ticker == ticker]\n",
    "    ticker_df = ticker_df.sort_values(by = \"endDate\")\n",
    "    ticker_df.reset_index(drop = True, inplace = True)\n",
    "    latest_EBIT = latest_EBIT.append(ticker_df[-1:])\n",
    "    #latest_AT = latest_AT.append(ticker_df[0])\n",
    "\n",
    "latest_EBIT"
   ]
  },
  {
   "cell_type": "markdown",
   "metadata": {},
   "source": [
    "latest_EBIT.to_csv(\"current_EBIT.csv\")"
   ]
  },
  {
   "cell_type": "markdown",
   "metadata": {},
   "source": [
    "## get the market value of a company"
   ]
  },
  {
   "cell_type": "code",
   "execution_count": 80,
   "metadata": {},
   "outputs": [],
   "source": [
    "so_list = []\n",
    "live_list = []\n",
    "ticker_list = []\n",
    "\n",
    "for ticker in shares_outstanding.ticker:\n",
    "    try:\n",
    "        df = live_price[live_price.ticker == ticker]\n",
    "        live_list.append(df[0:1].price.item())\n",
    "        ticker_list.append(ticker)\n",
    "        so_list.append(shares_outstanding[shares_outstanding.ticker == ticker][0:1][\"so\"].item())\n",
    "    except:\n",
    "        pass\n"
   ]
  },
  {
   "cell_type": "code",
   "execution_count": 85,
   "metadata": {},
   "outputs": [],
   "source": [
    "market_value = pd.DataFrame({\n",
    "    \"ticker\" : ticker_list,\n",
    "    \"so\" : so_list,\n",
    "    \"price\" : live_list\n",
    "})"
   ]
  },
  {
   "cell_type": "code",
   "execution_count": 87,
   "metadata": {},
   "outputs": [],
   "source": [
    "market_value[\"mar_cap\"] = market_value.so * market_value.price"
   ]
  },
  {
   "cell_type": "code",
   "execution_count": 89,
   "metadata": {},
   "outputs": [],
   "source": [
    "market_value.to_csv(\"market_capitalization.csv\")"
   ]
  },
  {
   "cell_type": "markdown",
   "metadata": {},
   "source": [
    "### Add Ebit to df"
   ]
  },
  {
   "cell_type": "code",
   "execution_count": 113,
   "metadata": {},
   "outputs": [],
   "source": [
    "ebit_list = []\n",
    "ebit_ticker = []\n",
    "\n",
    "for ticker in market_value.ticker:\n",
    "    try:\n",
    "        t_e = EBIT[EBIT.ticker == ticker][\"EBIT\"][0:1].item()\n",
    "        ebit_list.append(t_e)\n",
    "        ebit_ticker.append(ticker)\n",
    "    except:\n",
    "        pass"
   ]
  },
  {
   "cell_type": "code",
   "execution_count": 118,
   "metadata": {},
   "outputs": [],
   "source": [
    "rel_ebit = pd.DataFrame({\n",
    "    \"ticker\" : ebit_ticker,\n",
    "    \"ebit\" : ebit_list\n",
    "})"
   ]
  },
  {
   "cell_type": "code",
   "execution_count": 114,
   "metadata": {},
   "outputs": [],
   "source": [
    "at_list = []\n",
    "at_ticker = []\n",
    "\n",
    "for ticker in market_value.ticker:\n",
    "    try:\n",
    "        t_e = AT[AT.ticker == ticker][\"AT\"][0:1].item()\n",
    "        at_list.append(t_e)\n",
    "        at_ticker.append(ticker)\n",
    "    except:\n",
    "        pass"
   ]
  },
  {
   "cell_type": "code",
   "execution_count": 117,
   "metadata": {},
   "outputs": [],
   "source": [
    "rel_at = pd.DataFrame({\n",
    "    \"ticker\" : at_ticker,\n",
    "    \"at\" : at_list\n",
    "})"
   ]
  },
  {
   "cell_type": "code",
   "execution_count": 116,
   "metadata": {},
   "outputs": [
    {
     "data": {
      "text/plain": [
       "9"
      ]
     },
     "execution_count": 116,
     "metadata": {},
     "output_type": "execute_result"
    }
   ],
   "source": [
    "missing = []\n",
    "\n",
    "for i in ebit_ticker:\n",
    "    if i in at_ticker:\n",
    "        pass\n",
    "    else:\n",
    "        missing.append(i)\n",
    "        \n",
    "len(missing)"
   ]
  },
  {
   "cell_type": "markdown",
   "metadata": {},
   "source": [
    "Drop the rows with tickers that are not in AT"
   ]
  },
  {
   "cell_type": "code",
   "execution_count": 124,
   "metadata": {},
   "outputs": [],
   "source": [
    "missing_in_at = rel_ebit[rel_ebit.ticker.isin(missing)]\n",
    "rel_ebit_2 = rel_ebit.drop(missing_in_at.index)"
   ]
  },
  {
   "cell_type": "code",
   "execution_count": 128,
   "metadata": {},
   "outputs": [
    {
     "data": {
      "text/html": [
       "<div>\n",
       "<style scoped>\n",
       "    .dataframe tbody tr th:only-of-type {\n",
       "        vertical-align: middle;\n",
       "    }\n",
       "\n",
       "    .dataframe tbody tr th {\n",
       "        vertical-align: top;\n",
       "    }\n",
       "\n",
       "    .dataframe thead th {\n",
       "        text-align: right;\n",
       "    }\n",
       "</style>\n",
       "<table border=\"1\" class=\"dataframe\">\n",
       "  <thead>\n",
       "    <tr style=\"text-align: right;\">\n",
       "      <th></th>\n",
       "      <th>ticker</th>\n",
       "      <th>ebit</th>\n",
       "    </tr>\n",
       "  </thead>\n",
       "  <tbody>\n",
       "    <tr>\n",
       "      <th>0</th>\n",
       "      <td>DDD</td>\n",
       "      <td>-7446000</td>\n",
       "    </tr>\n",
       "    <tr>\n",
       "      <th>1</th>\n",
       "      <td>MMM</td>\n",
       "      <td>1928000000</td>\n",
       "    </tr>\n",
       "    <tr>\n",
       "      <th>2</th>\n",
       "      <td>WBAI</td>\n",
       "      <td>-52337000</td>\n",
       "    </tr>\n",
       "    <tr>\n",
       "      <th>3</th>\n",
       "      <td>EGHT</td>\n",
       "      <td>-33098000</td>\n",
       "    </tr>\n",
       "    <tr>\n",
       "      <th>4</th>\n",
       "      <td>AHC</td>\n",
       "      <td>-1194000</td>\n",
       "    </tr>\n",
       "    <tr>\n",
       "      <th>...</th>\n",
       "      <td>...</td>\n",
       "      <td>...</td>\n",
       "    </tr>\n",
       "    <tr>\n",
       "      <th>5267</th>\n",
       "      <td>WYY</td>\n",
       "      <td>1148816</td>\n",
       "    </tr>\n",
       "    <tr>\n",
       "      <th>5268</th>\n",
       "      <td>WTT</td>\n",
       "      <td>-333000</td>\n",
       "    </tr>\n",
       "    <tr>\n",
       "      <th>5269</th>\n",
       "      <td>XTNT</td>\n",
       "      <td>760000</td>\n",
       "    </tr>\n",
       "    <tr>\n",
       "      <th>5270</th>\n",
       "      <td>ZDGE</td>\n",
       "      <td>390000</td>\n",
       "    </tr>\n",
       "    <tr>\n",
       "      <th>5271</th>\n",
       "      <td>ZOM</td>\n",
       "      <td>-5000433</td>\n",
       "    </tr>\n",
       "  </tbody>\n",
       "</table>\n",
       "<p>5263 rows × 2 columns</p>\n",
       "</div>"
      ],
      "text/plain": [
       "     ticker        ebit\n",
       "0       DDD    -7446000\n",
       "1       MMM  1928000000\n",
       "2      WBAI   -52337000\n",
       "3      EGHT   -33098000\n",
       "4       AHC    -1194000\n",
       "...     ...         ...\n",
       "5267    WYY     1148816\n",
       "5268    WTT     -333000\n",
       "5269   XTNT      760000\n",
       "5270   ZDGE      390000\n",
       "5271    ZOM    -5000433\n",
       "\n",
       "[5263 rows x 2 columns]"
      ]
     },
     "execution_count": 128,
     "metadata": {},
     "output_type": "execute_result"
    }
   ],
   "source": [
    "rel_ebit_2"
   ]
  },
  {
   "cell_type": "code",
   "execution_count": 149,
   "metadata": {},
   "outputs": [],
   "source": [
    "ebit_list = []\n",
    "\n",
    "for ticker, at in zip(rel_at[\"ticker\"], rel_at[\"at\"]):\n",
    "    try:\n",
    "        ebit_list.append(rel_ebit[rel_ebit.ticker == ticker][0:1][\"ebit\"].item())\n",
    "    except:\n",
    "        ebit_list.append(\"\")\n",
    "\n",
    "rel_at[\"ebit\"] = ebit_list"
   ]
  },
  {
   "cell_type": "code",
   "execution_count": 158,
   "metadata": {},
   "outputs": [],
   "source": [
    "mar_cap_list = []\n",
    "\n",
    "for ticker, at in zip(rel_at[\"ticker\"], rel_at[\"at\"]):\n",
    "    try:\n",
    "        mar_cap_list.append(market_value[market_value.ticker == ticker][0:1][\"mar_cap\"].item())\n",
    "    except:\n",
    "        mar_cap_list.append(\"\")\n",
    "\n",
    "rel_at[\"mar_cap\"] = mar_cap_list"
   ]
  },
  {
   "cell_type": "code",
   "execution_count": 168,
   "metadata": {},
   "outputs": [],
   "source": [
    "rel_at.ebit = pd.to_numeric(rel_at.ebit)"
   ]
  },
  {
   "cell_type": "markdown",
   "metadata": {},
   "source": [
    "Drop missing values"
   ]
  },
  {
   "cell_type": "code",
   "execution_count": 171,
   "metadata": {},
   "outputs": [],
   "source": [
    "rel_price_data = price_data[[\"adjclose\", \"ticker\"]]"
   ]
  },
  {
   "cell_type": "code",
   "execution_count": 173,
   "metadata": {},
   "outputs": [],
   "source": [
    "rel_at.to_csv(\"relevant_fundamentals.csv\")\n",
    "rel_price_data.to_csv(\"relevant_price_data.csv\")"
   ]
  }
 ],
 "metadata": {
  "kernelspec": {
   "display_name": "Python 3",
   "language": "python",
   "name": "python3"
  },
  "language_info": {
   "codemirror_mode": {
    "name": "ipython",
    "version": 3
   },
   "file_extension": ".py",
   "mimetype": "text/x-python",
   "name": "python",
   "nbconvert_exporter": "python",
   "pygments_lexer": "ipython3",
   "version": "3.7.6"
  }
 },
 "nbformat": 4,
 "nbformat_minor": 4
}
