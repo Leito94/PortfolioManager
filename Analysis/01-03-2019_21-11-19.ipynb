{
 "cells": [
  {
   "cell_type": "code",
   "execution_count": 1,
   "metadata": {},
   "outputs": [],
   "source": [
    "import numpy as np\n",
    "import pandas as pd\n",
    "import yahoo_fin.stock_info as si\n",
    "import get_all_tickers.get_tickers as gt\n",
    "import yfinance as yf"
   ]
  },
  {
   "cell_type": "code",
   "execution_count": 2,
   "metadata": {},
   "outputs": [
    {
     "name": "stderr",
     "output_type": "stream",
     "text": [
      "C:\\Users\\Leonhard\\anaconda3\\lib\\site-packages\\numpy\\lib\\arraysetops.py:569: FutureWarning: elementwise comparison failed; returning scalar instead, but in the future will perform elementwise comparison\n",
      "  mask |= (ar1 == a)\n"
     ]
    }
   ],
   "source": [
    "price_data = pd.read_csv(\"../relevant_price_data_2019-2020.csv\", index_col=0)\n",
    "fundamental_data = pd.read_csv(\"../relevant_fundamentals.csv\", index_col=0)"
   ]
  },
  {
   "cell_type": "markdown",
   "metadata": {},
   "source": [
    "## Add new columns : BE/ME and OP"
   ]
  },
  {
   "cell_type": "code",
   "execution_count": 3,
   "metadata": {},
   "outputs": [
    {
     "name": "stderr",
     "output_type": "stream",
     "text": [
      "C:\\Users\\Leonhard\\anaconda3\\lib\\site-packages\\ipykernel_launcher.py:2: SettingWithCopyWarning: \n",
      "A value is trying to be set on a copy of a slice from a DataFrame.\n",
      "Try using .loc[row_indexer,col_indexer] = value instead\n",
      "\n",
      "See the caveats in the documentation: https://pandas.pydata.org/pandas-docs/stable/user_guide/indexing.html#returning-a-view-versus-a-copy\n",
      "  \n"
     ]
    },
    {
     "data": {
      "text/html": [
       "<div>\n",
       "<style scoped>\n",
       "    .dataframe tbody tr th:only-of-type {\n",
       "        vertical-align: middle;\n",
       "    }\n",
       "\n",
       "    .dataframe tbody tr th {\n",
       "        vertical-align: top;\n",
       "    }\n",
       "\n",
       "    .dataframe thead th {\n",
       "        text-align: right;\n",
       "    }\n",
       "</style>\n",
       "<table border=\"1\" class=\"dataframe\">\n",
       "  <thead>\n",
       "    <tr style=\"text-align: right;\">\n",
       "      <th></th>\n",
       "      <th>ticker</th>\n",
       "      <th>at</th>\n",
       "      <th>ebit</th>\n",
       "      <th>mar_cap</th>\n",
       "      <th>beme</th>\n",
       "    </tr>\n",
       "  </thead>\n",
       "  <tbody>\n",
       "    <tr>\n",
       "      <th>0</th>\n",
       "      <td>DDD</td>\n",
       "      <td>7.072820e+08</td>\n",
       "      <td>-7.446000e+06</td>\n",
       "      <td>8.801668e+08</td>\n",
       "      <td>0.803577</td>\n",
       "    </tr>\n",
       "    <tr>\n",
       "      <th>1</th>\n",
       "      <td>MMM</td>\n",
       "      <td>4.539000e+10</td>\n",
       "      <td>1.928000e+09</td>\n",
       "      <td>9.886729e+10</td>\n",
       "      <td>0.459100</td>\n",
       "    </tr>\n",
       "    <tr>\n",
       "      <th>2</th>\n",
       "      <td>WBAI</td>\n",
       "      <td>5.690690e+08</td>\n",
       "      <td>-5.233700e+07</td>\n",
       "      <td>1.281445e+08</td>\n",
       "      <td>4.440839</td>\n",
       "    </tr>\n",
       "    <tr>\n",
       "      <th>3</th>\n",
       "      <td>EGHT</td>\n",
       "      <td>6.872440e+08</td>\n",
       "      <td>-3.309800e+07</td>\n",
       "      <td>2.008404e+09</td>\n",
       "      <td>0.342184</td>\n",
       "    </tr>\n",
       "    <tr>\n",
       "      <th>4</th>\n",
       "      <td>AHC</td>\n",
       "      <td>1.292670e+08</td>\n",
       "      <td>-1.194000e+06</td>\n",
       "      <td>2.841195e+07</td>\n",
       "      <td>4.549741</td>\n",
       "    </tr>\n",
       "    <tr>\n",
       "      <th>...</th>\n",
       "      <td>...</td>\n",
       "      <td>...</td>\n",
       "      <td>...</td>\n",
       "      <td>...</td>\n",
       "      <td>...</td>\n",
       "    </tr>\n",
       "    <tr>\n",
       "      <th>5274</th>\n",
       "      <td>SOHON</td>\n",
       "      <td>4.662090e+08</td>\n",
       "      <td>-7.272725e+06</td>\n",
       "      <td>0.000000e+00</td>\n",
       "      <td>NaN</td>\n",
       "    </tr>\n",
       "    <tr>\n",
       "      <th>5275</th>\n",
       "      <td>SOHOO</td>\n",
       "      <td>4.662090e+08</td>\n",
       "      <td>-7.272725e+06</td>\n",
       "      <td>0.000000e+00</td>\n",
       "      <td>NaN</td>\n",
       "    </tr>\n",
       "    <tr>\n",
       "      <th>5276</th>\n",
       "      <td>SPKEP</td>\n",
       "      <td>3.611280e+08</td>\n",
       "      <td>2.915400e+07</td>\n",
       "      <td>0.000000e+00</td>\n",
       "      <td>NaN</td>\n",
       "    </tr>\n",
       "    <tr>\n",
       "      <th>5277</th>\n",
       "      <td>WHLRD</td>\n",
       "      <td>4.743380e+08</td>\n",
       "      <td>4.849000e+06</td>\n",
       "      <td>0.000000e+00</td>\n",
       "      <td>NaN</td>\n",
       "    </tr>\n",
       "    <tr>\n",
       "      <th>5278</th>\n",
       "      <td>WHLRP</td>\n",
       "      <td>4.743380e+08</td>\n",
       "      <td>4.849000e+06</td>\n",
       "      <td>0.000000e+00</td>\n",
       "      <td>NaN</td>\n",
       "    </tr>\n",
       "  </tbody>\n",
       "</table>\n",
       "<p>5279 rows × 5 columns</p>\n",
       "</div>"
      ],
      "text/plain": [
       "     ticker            at          ebit       mar_cap      beme\n",
       "0       DDD  7.072820e+08 -7.446000e+06  8.801668e+08  0.803577\n",
       "1       MMM  4.539000e+10  1.928000e+09  9.886729e+10  0.459100\n",
       "2      WBAI  5.690690e+08 -5.233700e+07  1.281445e+08  4.440839\n",
       "3      EGHT  6.872440e+08 -3.309800e+07  2.008404e+09  0.342184\n",
       "4       AHC  1.292670e+08 -1.194000e+06  2.841195e+07  4.549741\n",
       "...     ...           ...           ...           ...       ...\n",
       "5274  SOHON  4.662090e+08 -7.272725e+06  0.000000e+00       NaN\n",
       "5275  SOHOO  4.662090e+08 -7.272725e+06  0.000000e+00       NaN\n",
       "5276  SPKEP  3.611280e+08  2.915400e+07  0.000000e+00       NaN\n",
       "5277  WHLRD  4.743380e+08  4.849000e+06  0.000000e+00       NaN\n",
       "5278  WHLRP  4.743380e+08  4.849000e+06  0.000000e+00       NaN\n",
       "\n",
       "[5279 rows x 5 columns]"
      ]
     },
     "execution_count": 3,
     "metadata": {},
     "output_type": "execute_result"
    }
   ],
   "source": [
    "missing_values = fundamental_data[(fundamental_data.mar_cap == 0)] # missing values\n",
    "missing_values[\"beme\"] = np.nan # replaced with NaN\n",
    "d = fundamental_data.drop(missing_values.index) # dropped so that I can calculate the BEME\n",
    "d[\"beme\"] = d[\"at\"]/d[\"mar_cap\"]\n",
    "fundamental_data = d.append(missing_values)\n",
    "fundamental_data.reset_index(drop=True, inplace = True)\n",
    "fundamental_data"
   ]
  },
  {
   "cell_type": "code",
   "execution_count": 4,
   "metadata": {},
   "outputs": [
    {
     "name": "stderr",
     "output_type": "stream",
     "text": [
      "C:\\Users\\Leonhard\\anaconda3\\lib\\site-packages\\ipykernel_launcher.py:2: SettingWithCopyWarning: \n",
      "A value is trying to be set on a copy of a slice from a DataFrame.\n",
      "Try using .loc[row_indexer,col_indexer] = value instead\n",
      "\n",
      "See the caveats in the documentation: https://pandas.pydata.org/pandas-docs/stable/user_guide/indexing.html#returning-a-view-versus-a-copy\n",
      "  \n"
     ]
    },
    {
     "data": {
      "text/html": [
       "<div>\n",
       "<style scoped>\n",
       "    .dataframe tbody tr th:only-of-type {\n",
       "        vertical-align: middle;\n",
       "    }\n",
       "\n",
       "    .dataframe tbody tr th {\n",
       "        vertical-align: top;\n",
       "    }\n",
       "\n",
       "    .dataframe thead th {\n",
       "        text-align: right;\n",
       "    }\n",
       "</style>\n",
       "<table border=\"1\" class=\"dataframe\">\n",
       "  <thead>\n",
       "    <tr style=\"text-align: right;\">\n",
       "      <th></th>\n",
       "      <th>ticker</th>\n",
       "      <th>at</th>\n",
       "      <th>ebit</th>\n",
       "      <th>mar_cap</th>\n",
       "      <th>beme</th>\n",
       "      <th>op</th>\n",
       "    </tr>\n",
       "  </thead>\n",
       "  <tbody>\n",
       "    <tr>\n",
       "      <th>0</th>\n",
       "      <td>DDD</td>\n",
       "      <td>7.072820e+08</td>\n",
       "      <td>-7.446000e+06</td>\n",
       "      <td>8.801668e+08</td>\n",
       "      <td>0.803577</td>\n",
       "      <td>-0.010528</td>\n",
       "    </tr>\n",
       "    <tr>\n",
       "      <th>1</th>\n",
       "      <td>MMM</td>\n",
       "      <td>4.539000e+10</td>\n",
       "      <td>1.928000e+09</td>\n",
       "      <td>9.886729e+10</td>\n",
       "      <td>0.459100</td>\n",
       "      <td>0.042476</td>\n",
       "    </tr>\n",
       "    <tr>\n",
       "      <th>2</th>\n",
       "      <td>WBAI</td>\n",
       "      <td>5.690690e+08</td>\n",
       "      <td>-5.233700e+07</td>\n",
       "      <td>1.281445e+08</td>\n",
       "      <td>4.440839</td>\n",
       "      <td>-0.091970</td>\n",
       "    </tr>\n",
       "    <tr>\n",
       "      <th>3</th>\n",
       "      <td>EGHT</td>\n",
       "      <td>6.872440e+08</td>\n",
       "      <td>-3.309800e+07</td>\n",
       "      <td>2.008404e+09</td>\n",
       "      <td>0.342184</td>\n",
       "      <td>-0.048160</td>\n",
       "    </tr>\n",
       "    <tr>\n",
       "      <th>4</th>\n",
       "      <td>AHC</td>\n",
       "      <td>1.292670e+08</td>\n",
       "      <td>-1.194000e+06</td>\n",
       "      <td>2.841195e+07</td>\n",
       "      <td>4.549741</td>\n",
       "      <td>-0.009237</td>\n",
       "    </tr>\n",
       "    <tr>\n",
       "      <th>...</th>\n",
       "      <td>...</td>\n",
       "      <td>...</td>\n",
       "      <td>...</td>\n",
       "      <td>...</td>\n",
       "      <td>...</td>\n",
       "      <td>...</td>\n",
       "    </tr>\n",
       "    <tr>\n",
       "      <th>5274</th>\n",
       "      <td>EVBN</td>\n",
       "      <td>2.056993e+09</td>\n",
       "      <td>0.000000e+00</td>\n",
       "      <td>1.393415e+08</td>\n",
       "      <td>14.762238</td>\n",
       "      <td>NaN</td>\n",
       "    </tr>\n",
       "    <tr>\n",
       "      <th>5275</th>\n",
       "      <td>IMH</td>\n",
       "      <td>2.469308e+09</td>\n",
       "      <td>0.000000e+00</td>\n",
       "      <td>3.163255e+07</td>\n",
       "      <td>78.062246</td>\n",
       "      <td>NaN</td>\n",
       "    </tr>\n",
       "    <tr>\n",
       "      <th>5276</th>\n",
       "      <td>PRK</td>\n",
       "      <td>9.240006e+09</td>\n",
       "      <td>0.000000e+00</td>\n",
       "      <td>1.673021e+09</td>\n",
       "      <td>5.522946</td>\n",
       "      <td>NaN</td>\n",
       "    </tr>\n",
       "    <tr>\n",
       "      <th>5277</th>\n",
       "      <td>SACH</td>\n",
       "      <td>1.696320e+08</td>\n",
       "      <td>0.000000e+00</td>\n",
       "      <td>9.093293e+07</td>\n",
       "      <td>1.865463</td>\n",
       "      <td>NaN</td>\n",
       "    </tr>\n",
       "    <tr>\n",
       "      <th>5278</th>\n",
       "      <td>TMP</td>\n",
       "      <td>7.794502e+09</td>\n",
       "      <td>0.000000e+00</td>\n",
       "      <td>9.866471e+08</td>\n",
       "      <td>7.899990</td>\n",
       "      <td>NaN</td>\n",
       "    </tr>\n",
       "  </tbody>\n",
       "</table>\n",
       "<p>5279 rows × 6 columns</p>\n",
       "</div>"
      ],
      "text/plain": [
       "     ticker            at          ebit       mar_cap       beme        op\n",
       "0       DDD  7.072820e+08 -7.446000e+06  8.801668e+08   0.803577 -0.010528\n",
       "1       MMM  4.539000e+10  1.928000e+09  9.886729e+10   0.459100  0.042476\n",
       "2      WBAI  5.690690e+08 -5.233700e+07  1.281445e+08   4.440839 -0.091970\n",
       "3      EGHT  6.872440e+08 -3.309800e+07  2.008404e+09   0.342184 -0.048160\n",
       "4       AHC  1.292670e+08 -1.194000e+06  2.841195e+07   4.549741 -0.009237\n",
       "...     ...           ...           ...           ...        ...       ...\n",
       "5274   EVBN  2.056993e+09  0.000000e+00  1.393415e+08  14.762238       NaN\n",
       "5275    IMH  2.469308e+09  0.000000e+00  3.163255e+07  78.062246       NaN\n",
       "5276    PRK  9.240006e+09  0.000000e+00  1.673021e+09   5.522946       NaN\n",
       "5277   SACH  1.696320e+08  0.000000e+00  9.093293e+07   1.865463       NaN\n",
       "5278    TMP  7.794502e+09  0.000000e+00  9.866471e+08   7.899990       NaN\n",
       "\n",
       "[5279 rows x 6 columns]"
      ]
     },
     "execution_count": 4,
     "metadata": {},
     "output_type": "execute_result"
    }
   ],
   "source": [
    "missing_values = fundamental_data[(fundamental_data.ebit == 0)] # missing values\n",
    "missing_values[\"op\"] = np.nan # replaced with NaN\n",
    "d = fundamental_data.drop(missing_values.index) # dropped so that I can calculate the BEME\n",
    "d[\"op\"] = d[\"ebit\"]/d[\"at\"]\n",
    "fundamental_data = d.append(missing_values)\n",
    "fundamental_data.reset_index(drop=True, inplace = True)\n",
    "fundamental_data"
   ]
  },
  {
   "cell_type": "markdown",
   "metadata": {},
   "source": [
    "### Momentum"
   ]
  },
  {
   "cell_type": "code",
   "execution_count": 5,
   "metadata": {},
   "outputs": [],
   "source": [
    "start = \"2019-03-01\"\n",
    "today = \"2019-11-21\""
   ]
  },
  {
   "cell_type": "code",
   "execution_count": 6,
   "metadata": {},
   "outputs": [],
   "source": [
    "date_data = price_data[price_data.date == start]\n",
    "today_data = price_data[price_data.date == today]"
   ]
  },
  {
   "cell_type": "code",
   "execution_count": 7,
   "metadata": {},
   "outputs": [],
   "source": [
    "momentum_list = []\n",
    "mom_ticker_list = []\n",
    "for ticker in date_data.ticker:\n",
    "    try:\n",
    "        date_price = date_data[date_data.ticker == ticker][:1][\"adjclose\"].item()\n",
    "        today_price = today_data[today_data.ticker == ticker][:1][\"adjclose\"].item()\n",
    "        momentum = today_price - date_price\n",
    "        momentum_list.append(momentum)\n",
    "        mom_ticker_list.append(ticker)\n",
    "    except:\n",
    "        pass"
   ]
  },
  {
   "cell_type": "code",
   "execution_count": 8,
   "metadata": {},
   "outputs": [],
   "source": [
    "df = pd.DataFrame({\n",
    "    \"ticker\" : mom_ticker_list,\n",
    "    \"momentum\" : momentum_list\n",
    "})\n",
    "\n",
    "df = df.sort_values(by = \"momentum\", ascending = False)\n",
    "df.reset_index(drop = True, inplace = True)\n",
    "momentum_stocks = df[:30][\"ticker\"].to_list()"
   ]
  },
  {
   "cell_type": "code",
   "execution_count": 9,
   "metadata": {},
   "outputs": [],
   "source": [
    "value_stocks_df = fundamental_data.sort_values(by = \"beme\", ascending = False)\n",
    "profit_stocks_df = fundamental_data.sort_values(by = \"op\", ascending = False)"
   ]
  },
  {
   "cell_type": "code",
   "execution_count": 10,
   "metadata": {},
   "outputs": [],
   "source": [
    "value_stocks = value_stocks_df[:30][\"ticker\"].to_list()"
   ]
  },
  {
   "cell_type": "code",
   "execution_count": 11,
   "metadata": {},
   "outputs": [],
   "source": [
    "profit_stocks = profit_stocks_df[:30][\"ticker\"].to_list()"
   ]
  },
  {
   "cell_type": "code",
   "execution_count": 12,
   "metadata": {},
   "outputs": [
    {
     "name": "stdout",
     "output_type": "stream",
     "text": [
      "['NVR', 'CABO', 'AZO', 'SEB', 'CMG', 'GOOG', 'WTM', 'BKNG', 'GOOGL', 'TDG', 'MKTX', 'Y', 'SHW', 'EQIX', 'CHTR', 'SHOP', 'TDY', 'MELI', 'CSGP', 'RETA', 'FICO', 'MKL', 'CHE', 'LRCX', 'ROKU', 'GLPG', 'ASML', 'LMT', 'COST', 'PODD'] ['AVAL', 'WF', 'SHG', 'CIB', 'KB', 'ITCB', 'TLK', 'TSCAP', 'KT', 'BSAC', 'MFG', 'EC', 'MUFG', 'SMFG', 'SHIPW', 'PKX', 'BCH', 'CRESY', 'NMR', 'IRS', 'ENIC', 'SUPV', 'EDN', 'YPF', 'CCU', 'BBAR', 'GGAL', 'IX', 'BMA', 'PAM'] ['SBR', 'NRT', 'PBT', 'MSB', 'BPMC', 'SINO', 'WINA', 'VYGR', 'FLGT', 'UI', 'QDEL', 'SIGA', 'CODX', 'SGEN', 'MED', 'GBL', 'APT', 'BWMX', 'RVP', 'DVD', 'GRVY', 'STEP', 'OSB', 'SJ', 'BTG', 'CIH', 'NLS', 'LESL', 'LPX', 'GPP']\n"
     ]
    }
   ],
   "source": [
    "print(momentum_stocks, value_stocks, profit_stocks)"
   ]
  },
  {
   "cell_type": "code",
   "execution_count": 13,
   "metadata": {},
   "outputs": [],
   "source": [
    "import pandas as pd\n",
    "import random\n",
    "import yahoo_fin.stock_info as si\n",
    "import yfinance as yf\n",
    "import json\n",
    "import csv\n",
    "import re\n",
    "from io import StringIO\n",
    "from bs4 import BeautifulSoup\n",
    "import requests\n",
    "import get_all_tickers.get_tickers as gt\n",
    "from lxml import html\n",
    "import matplotlib.pyplot as plt"
   ]
  },
  {
   "cell_type": "markdown",
   "metadata": {},
   "source": [
    "## Scrape Sector and Country to diversify"
   ]
  },
  {
   "cell_type": "markdown",
   "metadata": {},
   "source": [
    "Create Dataframes"
   ]
  },
  {
   "cell_type": "markdown",
   "metadata": {},
   "source": [
    "1. Value Stocks"
   ]
  },
  {
   "cell_type": "code",
   "execution_count": 14,
   "metadata": {},
   "outputs": [],
   "source": [
    "name_list = []\n",
    "\n",
    "for ticker in value_stocks:\n",
    "    try:\n",
    "        url_shares_outstanding = \"https://finance.yahoo.com/quote/{}/key-statistics?p={}\"\n",
    "        response = requests.get(url_shares_outstanding.format(ticker, ticker))        \n",
    "        soup = BeautifulSoup(response.text, \"html.parser\")\n",
    "        pattern = re.compile(r\"\\s--\\sData\\s--\\s\")\n",
    "        script_data = soup.find(\"script\", text = pattern).contents[0]\n",
    "        start = script_data.find(\"context\")-2\n",
    "        json_data = json.loads(script_data[start:-12])\n",
    "        short_name = json_data[\"context\"][\"dispatcher\"][\"stores\"][\"QuoteSummaryStore\"][\"quoteType\"][\"shortName\"]\n",
    "        name_list.append(short_name)\n",
    "    except:\n",
    "        name_list.append(np.nan)\n",
    "\n",
    "country_list = []\n",
    "\n",
    "for ticker in value_stocks:\n",
    "    try:\n",
    "        url = \"https://finance.yahoo.com/quote/{}/profile?p={}\"\n",
    "\n",
    "        page = requests.get(url.format(ticker, ticker))\n",
    "        tree = html.fromstring(page.content)\n",
    "        country = tree.xpath('//div[@data-reactid=7]/p/text()[3]')[0].strip()\n",
    "\n",
    "        country_list.append(country)\n",
    "    except:\n",
    "        country_list.append(np.nan)\n",
    "\n",
    "industry_list = []\n",
    "\n",
    "for ticker in value_stocks:\n",
    "    try:\n",
    "        url = \"https://finance.yahoo.com/quote/{}/profile?p={}\"\n",
    "        response = requests.get(url.format(ticker, ticker))        \n",
    "        soup = BeautifulSoup(response.text, \"lxml\")\n",
    "\n",
    "        industry = soup.find_all(\"span\", {\"class\" : \"Fw(600)\"})[0].text\n",
    "        industry_list.append(industry)\n",
    "    except:\n",
    "        industry_list.append(np.nan)\n",
    "\n",
    "value_df = pd.DataFrame({\n",
    "    \"ticker\" : value_stocks,\n",
    "    \"names\" : name_list,\n",
    "    \"industry\" : industry_list,\n",
    "    \"country\" : country_list\n",
    "\n",
    "})"
   ]
  },
  {
   "cell_type": "markdown",
   "metadata": {},
   "source": [
    "2. Momentum Stocks"
   ]
  },
  {
   "cell_type": "code",
   "execution_count": 15,
   "metadata": {},
   "outputs": [],
   "source": [
    "name_list = []\n",
    "\n",
    "for ticker in momentum_stocks:\n",
    "    try:\n",
    "        url_shares_outstanding = \"https://finance.yahoo.com/quote/{}/key-statistics?p={}\"\n",
    "        response = requests.get(url_shares_outstanding.format(ticker, ticker))        \n",
    "        soup = BeautifulSoup(response.text, \"html.parser\")\n",
    "        pattern = re.compile(r\"\\s--\\sData\\s--\\s\")\n",
    "        script_data = soup.find(\"script\", text = pattern).contents[0]\n",
    "        start = script_data.find(\"context\")-2\n",
    "        json_data = json.loads(script_data[start:-12])\n",
    "        short_name = json_data[\"context\"][\"dispatcher\"][\"stores\"][\"QuoteSummaryStore\"][\"quoteType\"][\"shortName\"]\n",
    "        name_list.append(short_name)\n",
    "    except:\n",
    "        name_list.append(np.nan)\n",
    "\n",
    "country_list = []\n",
    "\n",
    "for ticker in momentum_stocks:\n",
    "    try:\n",
    "        url = \"https://finance.yahoo.com/quote/{}/profile?p={}\"\n",
    "\n",
    "        page = requests.get(url.format(ticker, ticker))\n",
    "        tree = html.fromstring(page.content)\n",
    "        country = tree.xpath('//div[@data-reactid=7]/p/text()[3]')[0].strip()\n",
    "\n",
    "        country_list.append(country)\n",
    "    except:\n",
    "        country_list.append(np.nan)\n",
    "\n",
    "industry_list = []\n",
    "\n",
    "for ticker in momentum_stocks:\n",
    "    try:\n",
    "        url = \"https://finance.yahoo.com/quote/{}/profile?p={}\"\n",
    "        response = requests.get(url.format(ticker, ticker))        \n",
    "        soup = BeautifulSoup(response.text, \"lxml\")\n",
    "\n",
    "        industry = soup.find_all(\"span\", {\"class\" : \"Fw(600)\"})[0].text\n",
    "        industry_list.append(industry)\n",
    "    except:\n",
    "        industry_list.append(np.nan)\n",
    "\n",
    "momentum_df = pd.DataFrame({\n",
    "    \"ticker\" : momentum_stocks,\n",
    "    \"names\" : name_list,\n",
    "    \"industry\" : industry_list,\n",
    "    \"country\" : country_list\n",
    "\n",
    "})"
   ]
  },
  {
   "cell_type": "markdown",
   "metadata": {},
   "source": [
    "3. Profit Stocks"
   ]
  },
  {
   "cell_type": "code",
   "execution_count": 16,
   "metadata": {},
   "outputs": [],
   "source": [
    "name_list = []\n",
    "\n",
    "for ticker in profit_stocks:\n",
    "    try:\n",
    "        url_shares_outstanding = \"https://finance.yahoo.com/quote/{}/key-statistics?p={}\"\n",
    "        response = requests.get(url_shares_outstanding.format(ticker, ticker))        \n",
    "        soup = BeautifulSoup(response.text, \"html.parser\")\n",
    "        pattern = re.compile(r\"\\s--\\sData\\s--\\s\")\n",
    "        script_data = soup.find(\"script\", text = pattern).contents[0]\n",
    "        start = script_data.find(\"context\")-2\n",
    "        json_data = json.loads(script_data[start:-12])\n",
    "        short_name = json_data[\"context\"][\"dispatcher\"][\"stores\"][\"QuoteSummaryStore\"][\"quoteType\"][\"shortName\"]\n",
    "        name_list.append(short_name)\n",
    "    except:\n",
    "        name_list.append(np.nan)\n",
    "\n",
    "country_list = []\n",
    "\n",
    "for ticker in profit_stocks:\n",
    "    try:\n",
    "        url = \"https://finance.yahoo.com/quote/{}/profile?p={}\"\n",
    "\n",
    "        page = requests.get(url.format(ticker, ticker))\n",
    "        tree = html.fromstring(page.content)\n",
    "        country = tree.xpath('//div[@data-reactid=7]/p/text()[3]')[0].strip()\n",
    "\n",
    "        country_list.append(country)\n",
    "    except:\n",
    "        country_list.append(np.nan)\n",
    "\n",
    "industry_list = []\n",
    "\n",
    "for ticker in profit_stocks:\n",
    "    try:\n",
    "        url = \"https://finance.yahoo.com/quote/{}/profile?p={}\"\n",
    "        response = requests.get(url.format(ticker, ticker))        \n",
    "        soup = BeautifulSoup(response.text, \"lxml\")\n",
    "\n",
    "        industry = soup.find_all(\"span\", {\"class\" : \"Fw(600)\"})[0].text\n",
    "        industry_list.append(industry)\n",
    "    except:\n",
    "        industry_list.append(np.nan)\n",
    "\n",
    "profit_df = pd.DataFrame({\n",
    "    \"ticker\" : profit_stocks,\n",
    "    \"names\" : name_list,\n",
    "    \"industry\" : industry_list,\n",
    "    \"country\" : country_list\n",
    "\n",
    "})"
   ]
  },
  {
   "cell_type": "markdown",
   "metadata": {},
   "source": [
    "# Now lets form a diversified Portfolio"
   ]
  },
  {
   "cell_type": "markdown",
   "metadata": {},
   "source": [
    "### It should consist of 20 stocks, diversified over industry and country."
   ]
  },
  {
   "cell_type": "code",
   "execution_count": 17,
   "metadata": {},
   "outputs": [],
   "source": [
    "# industreis\n",
    "combined_df = pd.concat([momentum_df, value_df, profit_df], axis = 0)\n",
    "unique_industries = combined_df.industry.unique()"
   ]
  },
  {
   "cell_type": "code",
   "execution_count": 18,
   "metadata": {},
   "outputs": [],
   "source": [
    "portfolio_df = pd.DataFrame(columns=[\"ticker\", \"names\", \"industry\", \"country\"])\n",
    "index = 0\n",
    "mom = 0\n",
    "val = 0\n",
    "pro = 0\n",
    "\n",
    "while (len(portfolio_df) < 20) & (index < 20):\n",
    "    \n",
    "    try:\n",
    "    \n",
    "        if (momentum_df.loc[index][\"industry\"] not in portfolio_df.industry.to_list() or momentum_df.loc[index][\"country\"] not in portfolio_df.country.to_list()) and mom <=5 and portfolio_df[portfolio_df.industry == momentum_df.loc[index][\"industry\"]][\"industry\"].count() <= 1:\n",
    "            portfolio_df = portfolio_df.append(momentum_df.loc[index])\n",
    "            mom += 1\n",
    "\n",
    "        elif (value_df.loc[index][\"industry\"] not in portfolio_df.industry.to_list() or value_df.loc[index][\"country\"] not in portfolio_df.country.to_list()) and val <= 5 and portfolio_df[portfolio_df.industry == value_df.loc[index][\"industry\"]][\"industry\"].count() <= 1:\n",
    "            portfolio_df = portfolio_df.append(value_df.loc[index])\n",
    "            val += 1\n",
    "\n",
    "        elif (profit_df.loc[index][\"industry\"] not in portfolio_df.industry.to_list() or profit_df.loc[index][\"country\"] not in portfolio_df.country.to_list()) and pro <= 5 and portfolio_df[portfolio_df.industry == value_df.loc[index][\"industry\"]][\"industry\"].count() <= 1:\n",
    "            portfolio_df = portfolio_df.append(profit_df.loc[index])\n",
    "            pro += 1\n",
    "\n",
    "        else:\n",
    "            index += 1\n",
    "    except:\n",
    "        index += 1"
   ]
  },
  {
   "cell_type": "code",
   "execution_count": 33,
   "metadata": {},
   "outputs": [
    {
     "data": {
      "text/html": [
       "<div>\n",
       "<style scoped>\n",
       "    .dataframe tbody tr th:only-of-type {\n",
       "        vertical-align: middle;\n",
       "    }\n",
       "\n",
       "    .dataframe tbody tr th {\n",
       "        vertical-align: top;\n",
       "    }\n",
       "\n",
       "    .dataframe thead th {\n",
       "        text-align: right;\n",
       "    }\n",
       "</style>\n",
       "<table border=\"1\" class=\"dataframe\">\n",
       "  <thead>\n",
       "    <tr style=\"text-align: right;\">\n",
       "      <th></th>\n",
       "      <th>ticker</th>\n",
       "      <th>names</th>\n",
       "      <th>industry</th>\n",
       "      <th>country</th>\n",
       "      <th>origin</th>\n",
       "    </tr>\n",
       "  </thead>\n",
       "  <tbody>\n",
       "    <tr>\n",
       "      <th>0</th>\n",
       "      <td>NVR</td>\n",
       "      <td>NVR, Inc.</td>\n",
       "      <td>Consumer Cyclical</td>\n",
       "      <td>Reston, VA 20190</td>\n",
       "      <td>mom</td>\n",
       "    </tr>\n",
       "    <tr>\n",
       "      <th>1</th>\n",
       "      <td>WF</td>\n",
       "      <td>Woori Financial Group Inc.</td>\n",
       "      <td>Financial Services</td>\n",
       "      <td>Seoul</td>\n",
       "      <td>val</td>\n",
       "    </tr>\n",
       "    <tr>\n",
       "      <th>2</th>\n",
       "      <td>PBT</td>\n",
       "      <td>Permian Basin Royalty Trust</td>\n",
       "      <td>Energy</td>\n",
       "      <td>Dallas, TX 75219</td>\n",
       "      <td>pro</td>\n",
       "    </tr>\n",
       "    <tr>\n",
       "      <th>3</th>\n",
       "      <td>SEB</td>\n",
       "      <td>Seaboard Corporation</td>\n",
       "      <td>Industrials</td>\n",
       "      <td>Merriam, KS 66202</td>\n",
       "      <td>mom</td>\n",
       "    </tr>\n",
       "    <tr>\n",
       "      <th>4</th>\n",
       "      <td>KB</td>\n",
       "      <td>KB Financial Group Inc</td>\n",
       "      <td>Financial Services</td>\n",
       "      <td>Seoul 07331</td>\n",
       "      <td>val</td>\n",
       "    </tr>\n",
       "    <tr>\n",
       "      <th>5</th>\n",
       "      <td>SINO</td>\n",
       "      <td>Sino-Global Shipping America, L</td>\n",
       "      <td>Industrials</td>\n",
       "      <td>Roslyn, NY 11576</td>\n",
       "      <td>pro</td>\n",
       "    </tr>\n",
       "    <tr>\n",
       "      <th>6</th>\n",
       "      <td>TLK</td>\n",
       "      <td>PT Telekomunikasi Indonesia, Tb</td>\n",
       "      <td>Communication Services</td>\n",
       "      <td>Indonesia</td>\n",
       "      <td>val</td>\n",
       "    </tr>\n",
       "    <tr>\n",
       "      <th>7</th>\n",
       "      <td>VYGR</td>\n",
       "      <td>Voyager Therapeutics, Inc.</td>\n",
       "      <td>Healthcare</td>\n",
       "      <td>United States</td>\n",
       "      <td>pro</td>\n",
       "    </tr>\n",
       "    <tr>\n",
       "      <th>8</th>\n",
       "      <td>GOOGL</td>\n",
       "      <td>Alphabet Inc.</td>\n",
       "      <td>Communication Services</td>\n",
       "      <td>United States</td>\n",
       "      <td>mom</td>\n",
       "    </tr>\n",
       "    <tr>\n",
       "      <th>9</th>\n",
       "      <td>UI</td>\n",
       "      <td>Ubiquiti Inc.</td>\n",
       "      <td>Technology</td>\n",
       "      <td>New York, NY 10017</td>\n",
       "      <td>pro</td>\n",
       "    </tr>\n",
       "    <tr>\n",
       "      <th>10</th>\n",
       "      <td>QDEL</td>\n",
       "      <td>Quidel Corporation</td>\n",
       "      <td>Healthcare</td>\n",
       "      <td>United States</td>\n",
       "      <td>pro</td>\n",
       "    </tr>\n",
       "    <tr>\n",
       "      <th>11</th>\n",
       "      <td>EC</td>\n",
       "      <td>Ecopetrol S.A.</td>\n",
       "      <td>Energy</td>\n",
       "      <td>Colombia</td>\n",
       "      <td>val</td>\n",
       "    </tr>\n",
       "    <tr>\n",
       "      <th>13</th>\n",
       "      <td>EQIX</td>\n",
       "      <td>Equinix, Inc.</td>\n",
       "      <td>Real Estate</td>\n",
       "      <td>United States</td>\n",
       "      <td>mom</td>\n",
       "    </tr>\n",
       "    <tr>\n",
       "      <th>14</th>\n",
       "      <td>SHIPW</td>\n",
       "      <td>Seanergy Maritime Holdings Corp</td>\n",
       "      <td></td>\n",
       "      <td>Athens 166 74</td>\n",
       "      <td>val</td>\n",
       "    </tr>\n",
       "    <tr>\n",
       "      <th>16</th>\n",
       "      <td>TDY</td>\n",
       "      <td>Teledyne Technologies Incorpora</td>\n",
       "      <td>Technology</td>\n",
       "      <td>United States</td>\n",
       "      <td>mom</td>\n",
       "    </tr>\n",
       "    <tr>\n",
       "      <th>17</th>\n",
       "      <td>CRESY</td>\n",
       "      <td>Cresud S.A.C.I.F. y A.</td>\n",
       "      <td>Consumer Defensive</td>\n",
       "      <td>Buenos Aires C1091AAQ</td>\n",
       "      <td>val</td>\n",
       "    </tr>\n",
       "    <tr>\n",
       "      <th>19</th>\n",
       "      <td>DVD</td>\n",
       "      <td>Dover Motorsports, Inc.</td>\n",
       "      <td>Consumer Cyclical</td>\n",
       "      <td>United States</td>\n",
       "      <td>pro</td>\n",
       "    </tr>\n",
       "  </tbody>\n",
       "</table>\n",
       "</div>"
      ],
      "text/plain": [
       "   ticker                            names                industry  \\\n",
       "0     NVR                        NVR, Inc.       Consumer Cyclical   \n",
       "1      WF       Woori Financial Group Inc.      Financial Services   \n",
       "2     PBT      Permian Basin Royalty Trust                  Energy   \n",
       "3     SEB             Seaboard Corporation             Industrials   \n",
       "4      KB           KB Financial Group Inc      Financial Services   \n",
       "5    SINO  Sino-Global Shipping America, L             Industrials   \n",
       "6     TLK  PT Telekomunikasi Indonesia, Tb  Communication Services   \n",
       "7    VYGR       Voyager Therapeutics, Inc.              Healthcare   \n",
       "8   GOOGL                    Alphabet Inc.  Communication Services   \n",
       "9      UI                    Ubiquiti Inc.              Technology   \n",
       "10   QDEL               Quidel Corporation              Healthcare   \n",
       "11     EC                   Ecopetrol S.A.                  Energy   \n",
       "13   EQIX                    Equinix, Inc.             Real Estate   \n",
       "14  SHIPW  Seanergy Maritime Holdings Corp                           \n",
       "16    TDY  Teledyne Technologies Incorpora              Technology   \n",
       "17  CRESY           Cresud S.A.C.I.F. y A.      Consumer Defensive   \n",
       "19    DVD          Dover Motorsports, Inc.       Consumer Cyclical   \n",
       "\n",
       "                  country origin  \n",
       "0        Reston, VA 20190    mom  \n",
       "1                   Seoul    val  \n",
       "2        Dallas, TX 75219    pro  \n",
       "3       Merriam, KS 66202    mom  \n",
       "4             Seoul 07331    val  \n",
       "5        Roslyn, NY 11576    pro  \n",
       "6               Indonesia    val  \n",
       "7           United States    pro  \n",
       "8           United States    mom  \n",
       "9      New York, NY 10017    pro  \n",
       "10          United States    pro  \n",
       "11               Colombia    val  \n",
       "13          United States    mom  \n",
       "14          Athens 166 74    val  \n",
       "16          United States    mom  \n",
       "17  Buenos Aires C1091AAQ    val  \n",
       "19          United States    pro  "
      ]
     },
     "execution_count": 33,
     "metadata": {},
     "output_type": "execute_result"
    }
   ],
   "source": [
    "portfolio_df = pd.DataFrame(columns=[\"ticker\", \"names\", \"industry\", \"country\"])\n",
    "index = 0\n",
    "mom = 0\n",
    "val = 0\n",
    "pro = 0\n",
    "origin_list = [] # list for the origins of the stocks\n",
    "\n",
    "while (len(portfolio_df) < 20) & (index < 20):\n",
    "    \n",
    "    try:\n",
    "        if portfolio_df[portfolio_df.industry == momentum_df.loc[index][\"industry\"]][\"industry\"].count() <= 1 and mom <= 5:\n",
    "            portfolio_df = portfolio_df.append(momentum_df.loc[index])\n",
    "            index += 1\n",
    "            mom += 1\n",
    "            origin_list.append(\"mom\")\n",
    "        if portfolio_df[portfolio_df.industry == value_df.loc[index][\"industry\"]][\"industry\"].count() <= 1 and val <= 5:\n",
    "            portfolio_df = portfolio_df.append(value_df.loc[index])\n",
    "            index += 1\n",
    "            val += 1\n",
    "            origin_list.append(\"val\")\n",
    "        if portfolio_df[portfolio_df.industry == profit_df.loc[index][\"industry\"]][\"industry\"].count() <= 1 and pro <= 5:\n",
    "            portfolio_df = portfolio_df.append(profit_df.loc[index])\n",
    "            index += 1\n",
    "            pro += 1\n",
    "            origin_list.append(\"pro\")\n",
    "    \n",
    "        \n",
    "        else:\n",
    "            index += 1\n",
    "    except:\n",
    "        index += 1\n",
    "    \n",
    "portfolio_df[\"origin\"] = origin_list\n",
    "portfolio_df"
   ]
  },
  {
   "cell_type": "code",
   "execution_count": 34,
   "metadata": {},
   "outputs": [],
   "source": [
    "portfolio_df.reset_index(drop=True, inplace = True)\n"
   ]
  },
  {
   "cell_type": "markdown",
   "metadata": {},
   "source": [
    "## Get live prices"
   ]
  },
  {
   "cell_type": "code",
   "execution_count": 35,
   "metadata": {},
   "outputs": [
    {
     "name": "stdout",
     "output_type": "stream",
     "text": [
      "4160.10009765625\n",
      "27.09000015258789\n",
      "2.759999990463257\n",
      "3375.3798828125\n",
      "41.400001525878906\n",
      "2.4800000190734863\n",
      "22.25\n",
      "8.329999923706055\n",
      "1736.3800048828125\n",
      "245.63999938964844\n",
      "187.19000244140625\n",
      "11.869999885559082\n",
      "728.1199951171875\n",
      "0.020099999383091927\n",
      "382.0199890136719\n",
      "3.8399999141693115\n",
      "1.850000023841858\n"
     ]
    }
   ],
   "source": [
    "live_prices = []\n",
    "\n",
    "for tick in portfolio_df.ticker:\n",
    "    t = si.get_live_price(tick)\n",
    "    print(t)\n",
    "    live_prices.append(t)\n",
    "    \n",
    "portfolio_df[\"live_price\"] = live_prices"
   ]
  },
  {
   "cell_type": "markdown",
   "metadata": {},
   "source": [
    "If we invested amount x, what are the fractions of the shares we would have to buy if we wanted to equally weight the stocks?"
   ]
  },
  {
   "cell_type": "code",
   "execution_count": 36,
   "metadata": {},
   "outputs": [],
   "source": [
    "investment = 1000#float(input(\"How much do we want to invest?\"))\n",
    "\n",
    "fraction_list = []\n",
    "\n",
    "for price in live_prices:\n",
    "    fraction = investment/(len(live_prices))/price\n",
    "    fraction_list.append(fraction)\n",
    "    \n",
    "portfolio_df[\"fraction\"] = fraction_list"
   ]
  },
  {
   "cell_type": "markdown",
   "metadata": {},
   "source": [
    "## Get historical return of the portfolio"
   ]
  },
  {
   "cell_type": "markdown",
   "metadata": {},
   "source": [
    "get spy data as benchmark and portfolio content data\n"
   ]
  },
  {
   "cell_type": "code",
   "execution_count": 37,
   "metadata": {},
   "outputs": [],
   "source": [
    "today = \"2020-11-19\"\n",
    "start = \"2019-11-21\""
   ]
  },
  {
   "cell_type": "code",
   "execution_count": 38,
   "metadata": {},
   "outputs": [],
   "source": [
    "port_data = pd.DataFrame()\n",
    "\n",
    "for ticker in portfolio_df.ticker:\n",
    "    try:\n",
    "        stock_df = si.get_data(ticker, start_date = start, end_date = today)[[ \"adjclose\", \"ticker\"]]\n",
    "        port_data = port_data.append(stock_df)\n",
    "    except:\n",
    "        pass\n",
    "\n",
    "spy = si.get_data(\"spy\", start_date = start, end_date = today)[[\"adjclose\", \"ticker\"]]"
   ]
  },
  {
   "cell_type": "markdown",
   "metadata": {},
   "source": [
    "calculate returns "
   ]
  },
  {
   "cell_type": "code",
   "execution_count": 39,
   "metadata": {},
   "outputs": [
    {
     "name": "stderr",
     "output_type": "stream",
     "text": [
      "C:\\Users\\Leonhard\\anaconda3\\lib\\site-packages\\ipykernel_launcher.py:12: SettingWithCopyWarning: \n",
      "A value is trying to be set on a copy of a slice from a DataFrame.\n",
      "Try using .loc[row_indexer,col_indexer] = value instead\n",
      "\n",
      "See the caveats in the documentation: https://pandas.pydata.org/pandas-docs/stable/user_guide/indexing.html#returning-a-view-versus-a-copy\n",
      "  if sys.path[0] == '':\n"
     ]
    }
   ],
   "source": [
    "unique_tickers = port_data.ticker.unique()\n",
    "data_df_list = []\n",
    "for ticker in unique_tickers:\n",
    "    return_list = [np.nan]\n",
    "    ticker_df = port_data[port_data.ticker == ticker]\n",
    "    n = 1\n",
    "    ticker_df.reset_index(drop = True, inplace = True)\n",
    "    while n <= len(ticker_df) - 1:\n",
    "        day_ret = ((ticker_df.loc[n][\"adjclose\"] - ticker_df.loc[n-1][\"adjclose\"])/ticker_df.loc[n-1][\"adjclose\"]) * 100\n",
    "        return_list.append(day_ret)\n",
    "        n += 1\n",
    "    ticker_df[\"returns\"] = return_list\n",
    "    data_df_list.append(ticker_df)\n",
    "    "
   ]
  },
  {
   "cell_type": "code",
   "execution_count": 40,
   "metadata": {},
   "outputs": [],
   "source": [
    "rets = []\n",
    "for adj1, adj2 in zip(spy[\"adjclose\"], spy.shift()[\"adjclose\"]):\n",
    "    ret = ((adj1 - adj2)/adj2) * 100\n",
    "    rets.append(ret)\n",
    "\n",
    "spy[\"day_ret\"] = rets"
   ]
  },
  {
   "cell_type": "code",
   "execution_count": 41,
   "metadata": {},
   "outputs": [],
   "source": [
    "kum_ret = []\n",
    "n = 1\n",
    "while n <= len(spy):\n",
    "    ret = spy.day_ret[:n].sum()\n",
    "    kum_ret.append(ret)\n",
    "    n += 1\n",
    "spy[\"kum_ret\"] = kum_ret"
   ]
  },
  {
   "cell_type": "code",
   "execution_count": 42,
   "metadata": {},
   "outputs": [
    {
     "name": "stderr",
     "output_type": "stream",
     "text": [
      "C:\\Users\\Leonhard\\anaconda3\\lib\\site-packages\\ipykernel_launcher.py:8: SettingWithCopyWarning: \n",
      "A value is trying to be set on a copy of a slice from a DataFrame.\n",
      "Try using .loc[row_indexer,col_indexer] = value instead\n",
      "\n",
      "See the caveats in the documentation: https://pandas.pydata.org/pandas-docs/stable/user_guide/indexing.html#returning-a-view-versus-a-copy\n",
      "  \n"
     ]
    }
   ],
   "source": [
    "for df in data_df_list:\n",
    "    kum_ret = []\n",
    "    n = 1\n",
    "    while n <= len(df):\n",
    "        ret = df.returns[:n].sum()\n",
    "        kum_ret.append(ret)\n",
    "        n += 1\n",
    "    df[\"kum_ret\"] = kum_ret"
   ]
  },
  {
   "cell_type": "code",
   "execution_count": 43,
   "metadata": {},
   "outputs": [],
   "source": [
    "n = 0\n",
    "kum_port_rets = []\n",
    "while n < len(spy):\n",
    "    rets = [data_df_list[m].loc[n][\"kum_ret\"] for m in range(len(data_df_list))]\n",
    "    kum_port_ret = sum(rets)/len(data_df_list)\n",
    "    kum_port_rets.append(kum_port_ret)\n",
    "    n += 1"
   ]
  },
  {
   "cell_type": "markdown",
   "metadata": {},
   "source": [
    "#### Add the returns to spy dataframe so we can compare them"
   ]
  },
  {
   "cell_type": "code",
   "execution_count": 44,
   "metadata": {},
   "outputs": [],
   "source": [
    "spy[\"port_kum_rets\"] = kum_port_rets"
   ]
  },
  {
   "cell_type": "markdown",
   "metadata": {},
   "source": [
    "#### Plot the kum rets and compare them"
   ]
  },
  {
   "cell_type": "code",
   "execution_count": 45,
   "metadata": {},
   "outputs": [
    {
     "data": {
      "text/plain": [
       "Text(0.5, 1.0, 'SPY vs my Portfolio')"
      ]
     },
     "execution_count": 45,
     "metadata": {},
     "output_type": "execute_result"
    },
    {
     "data": {
      "image/png": "[encoded data removed]",
      "text/plain": [
       "<Figure size 432x288 with 1 Axes>"
      ]
     },
     "metadata": {
      "needs_background": "light"
     },
     "output_type": "display_data"
    }
   ],
   "source": [
    "plt.plot(spy.index, spy.kum_ret, \"blue\", label = \"SPY\")\n",
    "plt.plot(spy.index, spy.port_kum_rets, \"red\", label = \"My Portfolio\")\n",
    "plt.legend()\n",
    "plt.xlabel(\"date\")\n",
    "plt.ylabel(\"cumulative return\")\n",
    "plt.title(\"SPY vs my Portfolio\")"
   ]
  },
  {
   "cell_type": "code",
   "execution_count": null,
   "metadata": {},
   "outputs": [],
   "source": []
  }
 ],
 "metadata": {
  "kernelspec": {
   "display_name": "Python 3",
   "language": "python",
   "name": "python3"
  },
  "language_info": {
   "codemirror_mode": {
    "name": "ipython",
    "version": 3
   },
   "file_extension": ".py",
   "mimetype": "text/x-python",
   "name": "python",
   "nbconvert_exporter": "python",
   "pygments_lexer": "ipython3",
   "version": "3.7.6"
  }
 },
 "nbformat": 4,
 "nbformat_minor": 4
}
