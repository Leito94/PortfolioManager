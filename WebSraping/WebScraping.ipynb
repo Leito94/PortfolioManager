{
 "cells": [
  {
   "cell_type": "code",
   "execution_count": 42,
   "metadata": {},
   "outputs": [],
   "source": [
    "import pandas as pd\n",
    "import random\n",
    "import yahoo_fin.stock_info as si\n",
    "import yfinance as yf\n",
    "import json\n",
    "import csv\n",
    "import re\n",
    "from io import StringIO\n",
    "from bs4 import BeautifulSoup\n",
    "import requests\n",
    "import get_all_tickers.get_tickers as gt\n"
   ]
  },
  {
   "cell_type": "code",
   "execution_count": 8,
   "metadata": {},
   "outputs": [],
   "source": [
    "url_shares_outstanding = \"https://finance.yahoo.com/quote/{}/key-statistics?p={}\"\n",
    "# die {} dienen sozusagen als Platzhalter"
   ]
  },
  {
   "cell_type": "code",
   "execution_count": 9,
   "metadata": {},
   "outputs": [],
   "source": [
    "tick = \"F\""
   ]
  },
  {
   "cell_type": "code",
   "execution_count": 10,
   "metadata": {},
   "outputs": [],
   "source": [
    "response = requests.get(url_shares_outstanding.format(tick, tick))"
   ]
  },
  {
   "cell_type": "code",
   "execution_count": 11,
   "metadata": {},
   "outputs": [],
   "source": [
    "soup = BeautifulSoup(response.text, \"html.parser\")"
   ]
  },
  {
   "cell_type": "code",
   "execution_count": 12,
   "metadata": {},
   "outputs": [],
   "source": [
    "pattern = re.compile(r\"\\s--\\sData\\s--\\s\")\n",
    "script_data = soup.find(\"script\", text = pattern).contents[0]"
   ]
  },
  {
   "cell_type": "code",
   "execution_count": 19,
   "metadata": {},
   "outputs": [],
   "source": [
    "start = script_data.find(\"context\")-2"
   ]
  },
  {
   "cell_type": "code",
   "execution_count": 21,
   "metadata": {},
   "outputs": [],
   "source": [
    "json_data = json.loads(script_data[start:-12])"
   ]
  },
  {
   "cell_type": "code",
   "execution_count": 22,
   "metadata": {},
   "outputs": [
    {
     "data": {
      "text/plain": [
       "dict_keys(['dispatcher', 'options', 'plugins'])"
      ]
     },
     "execution_count": 22,
     "metadata": {},
     "output_type": "execute_result"
    }
   ],
   "source": [
    "json_data[\"context\"].keys()"
   ]
  },
  {
   "cell_type": "code",
   "execution_count": 23,
   "metadata": {},
   "outputs": [
    {
     "name": "stdout",
     "output_type": "stream",
     "text": [
      "dict_keys(['defaultKeyStatistics', 'financialsTemplate', 'price', 'financialData', 'quoteType', 'calendarEvents', 'summaryDetail', 'symbol', 'pageViews'])\n"
     ]
    }
   ],
   "source": [
    "print(json_data[\"context\"][\"dispatcher\"][\"stores\"][\"QuoteSummaryStore\"].keys())\n"
   ]
  },
  {
   "cell_type": "code",
   "execution_count": 39,
   "metadata": {},
   "outputs": [],
   "source": [
    "shares_outstanding = json_data[\"context\"][\"dispatcher\"][\"stores\"][\"QuoteSummaryStore\"][\"defaultKeyStatistics\"][\"sharesOutstanding\"][\"raw\"]\n"
   ]
  },
  {
   "cell_type": "code",
   "execution_count": 43,
   "metadata": {},
   "outputs": [
    {
     "name": "stdout",
     "output_type": "stream",
     "text": [
      "6681\n"
     ]
    }
   ],
   "source": [
    "all_tickers = gt.get_tickers()"
   ]
  },
  {
   "cell_type": "code",
   "execution_count": 51,
   "metadata": {},
   "outputs": [],
   "source": [
    "shares_tickers = []\n",
    "shares_outstanding_list = []\n",
    "\n",
    "for ticker in all_tickers[3000:]:\n",
    "    try:\n",
    "        response = requests.get(url_shares_outstanding.format(ticker, ticker))        \n",
    "        soup = BeautifulSoup(response.text, \"html.parser\")\n",
    "        pattern = re.compile(r\"\\s--\\sData\\s--\\s\")\n",
    "        script_data = soup.find(\"script\", text = pattern).contents[0]\n",
    "        start = script_data.find(\"context\")-2\n",
    "        json_data = json.loads(script_data[start:-12])\n",
    "        shares_outstanding = json_data[\"context\"][\"dispatcher\"][\"stores\"][\"QuoteSummaryStore\"][\"defaultKeyStatistics\"][\"sharesOutstanding\"][\"raw\"]\n",
    "        shares_tickers.append(ticker)\n",
    "        shares_outstanding_list.append(shares_outstanding)\n",
    "    except:\n",
    "        pass\n",
    "        \n"
   ]
  },
  {
   "cell_type": "code",
   "execution_count": 52,
   "metadata": {},
   "outputs": [],
   "source": [
    "shares_out = pd.DataFrame({\n",
    "    \"ticker\" : shares_tickers,\n",
    "    \"so\" : shares_outstanding_list\n",
    "})"
   ]
  },
  {
   "cell_type": "code",
   "execution_count": 53,
   "metadata": {},
   "outputs": [],
   "source": [
    "shares_out.to_csv(\"shares_outstanding_ab_3000.csv\")"
   ]
  }
 ],
 "metadata": {
  "kernelspec": {
   "display_name": "Python 3",
   "language": "python",
   "name": "python3"
  },
  "language_info": {
   "codemirror_mode": {
    "name": "ipython",
    "version": 3
   },
   "file_extension": ".py",
   "mimetype": "text/x-python",
   "name": "python",
   "nbconvert_exporter": "python",
   "pygments_lexer": "ipython3",
   "version": "3.7.6"
  }
 },
 "nbformat": 4,
 "nbformat_minor": 4
}
