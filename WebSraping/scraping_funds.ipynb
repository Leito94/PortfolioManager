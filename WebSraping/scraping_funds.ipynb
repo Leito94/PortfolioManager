{
 "cells": [
  {
   "cell_type": "code",
   "execution_count": 5,
   "metadata": {},
   "outputs": [],
   "source": [
    "from bs4 import BeautifulSoup as bs\n",
    "import requests\n",
    "import re\n",
    "import json\n",
    "import pandas as pd\n",
    "import json\n",
    "import yahoo_fin.stock_info as si\n",
    "import random"
   ]
  },
  {
   "cell_type": "code",
   "execution_count": 4,
   "metadata": {},
   "outputs": [],
   "source": [
    "# open list of user agents\n",
    "with open(\"../../../Data/user_agent_list.json\", \"r\") as f:\n",
    "    user_agent_list = json.load(f)"
   ]
  },
  {
   "cell_type": "code",
   "execution_count": 16,
   "metadata": {},
   "outputs": [],
   "source": [
    "fundamentals = pd.read_csv(\"../../../../../Job/My_Projects/Finance/Portfolio Manager/fundamentals.csv\", engine=\"c\", index_col=0)"
   ]
  },
  {
   "cell_type": "code",
   "execution_count": 31,
   "metadata": {},
   "outputs": [],
   "source": [
    "mar_cap_2019 = []\n",
    "\n",
    "for ticker in fundamentals.ticker[:100]:\n",
    "    try:\n",
    "        url = \"https://finance.yahoo.com/quote/{}/key-statistics?p={}\"\n",
    "        heads = {\"user-agent\" : random.choice(user_agent_list)}\n",
    "        re = requests.get(url.format(ticker, ticker))\n",
    "\n",
    "        soup = bs(re.content, \"lxml\")\n",
    "\n",
    "        tds = soup.find(\"tbody\").find(\"tr\").find_all(\"td\")\n",
    "        mar_cap_2019.append(tds[5].text)\n",
    "    except:\n",
    "        pass"
   ]
  },
  {
   "cell_type": "code",
   "execution_count": 32,
   "metadata": {},
   "outputs": [
    {
     "data": {
      "text/plain": [
       "['16.78M', '30.77M', '246.25M']"
      ]
     },
     "execution_count": 32,
     "metadata": {},
     "output_type": "execute_result"
    }
   ],
   "source": [
    "mar_cap_2019"
   ]
  },
  {
   "cell_type": "code",
   "execution_count": 30,
   "metadata": {},
   "outputs": [
    {
     "name": "stdout",
     "output_type": "stream",
     "text": [
      "DCT\n",
      "GVA\n",
      "UK\n",
      "YGMZ\n",
      "AGMH\n",
      "ALGS\n",
      "ANTE\n",
      "BLCT\n",
      "BROG\n",
      "BRQS\n"
     ]
    }
   ],
   "source": [
    "for ticker in fundamentals.ticker[:10]:\n",
    "    print(ticker)"
   ]
  },
  {
   "cell_type": "code",
   "execution_count": null,
   "metadata": {},
   "outputs": [],
   "source": []
  }
 ],
 "metadata": {
  "kernelspec": {
   "display_name": "Python 3",
   "language": "python",
   "name": "python3"
  },
  "language_info": {
   "codemirror_mode": {
    "name": "ipython",
    "version": 3
   },
   "file_extension": ".py",
   "mimetype": "text/x-python",
   "name": "python",
   "nbconvert_exporter": "python",
   "pygments_lexer": "ipython3",
   "version": "3.7.6"
  }
 },
 "nbformat": 4,
 "nbformat_minor": 4
}
