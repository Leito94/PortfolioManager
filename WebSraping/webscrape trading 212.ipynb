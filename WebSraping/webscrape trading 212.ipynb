{
 "cells": [
  {
   "cell_type": "markdown",
   "metadata": {},
   "source": [
    "1. Import necessary Libraries"
   ]
  },
  {
   "cell_type": "code",
   "execution_count": 1,
   "metadata": {},
   "outputs": [],
   "source": [
    "from bs4 import BeautifulSoup\n",
    "import requests"
   ]
  },
  {
   "cell_type": "markdown",
   "metadata": {},
   "source": [
    "2. Create User Agent (optional) (because some webistes might think that you are a bot) (which I am?!)"
   ]
  },
  {
   "cell_type": "code",
   "execution_count": 2,
   "metadata": {},
   "outputs": [],
   "source": [
    "headers = {\"User-Agent\" : \"Mozilla/5.0 (Windows NT 10.0; Win64; x64) AppleWebKit/537.36 (KHTML, like Gecko) Chrome/86.0.4240.198 Safari/537.36\"}"
   ]
  },
  {
   "cell_type": "markdown",
   "metadata": {},
   "source": [
    "3. Send get request and fetch the webpage contents"
   ]
  },
  {
   "cell_type": "code",
   "execution_count": 3,
   "metadata": {},
   "outputs": [],
   "source": [
    "url = \"https://www.trading212.com/en/Trade-Equities\"\n",
    "response = requests.get(url, headers = headers)\n",
    "webpage = response.content"
   ]
  },
  {
   "cell_type": "markdown",
   "metadata": {},
   "source": [
    "4. Check Status Code"
   ]
  },
  {
   "cell_type": "code",
   "execution_count": 4,
   "metadata": {},
   "outputs": [
    {
     "name": "stdout",
     "output_type": "stream",
     "text": [
      "200\n"
     ]
    }
   ],
   "source": [
    "print(response.status_code) # 200 is good"
   ]
  },
  {
   "cell_type": "markdown",
   "metadata": {},
   "source": [
    "5. Create beautiful Soup object"
   ]
  },
  {
   "cell_type": "code",
   "execution_count": 5,
   "metadata": {},
   "outputs": [],
   "source": [
    "soup = BeautifulSoup(webpage, \"html.parser\")"
   ]
  },
  {
   "cell_type": "markdown",
   "metadata": {},
   "source": [
    "6. Navigate and extract content we want"
   ]
  },
  {
   "cell_type": "code",
   "execution_count": 6,
   "metadata": {},
   "outputs": [],
   "source": [
    "tickers = soup.find_all(\"div\", {\"class\" : \"d-table row-to-cols grey-heading-style clearfix js-search-container mt-10\"})"
   ]
  },
  {
   "cell_type": "code",
   "execution_count": 7,
   "metadata": {},
   "outputs": [
    {
     "data": {
      "text/plain": [
       "'InstrumentCompanyCurrency codeISINMin traded quantity\\nMarket name Market hours (GMT)BARCBarclays PLCGBXGB00313486580.1London Stock Exchange\\n                                8:01 am to 4:30 pm\\n                        VODVodafone Group PLCGBXGB00BH4HKS390.1London Stock Exchange\\n                                8:01 am to 4:30 pm\\n                        BMWBayerische Motoren Werke AGEURDE00051900030.01Deutsche Börse Xetra\\n                                8:00 am to 4:30 pm\\n                        DBKDeutsche Bank AGEURDE00051400080.1Deutsche Börse Xetra\\n                                8:00 am to 4:30 pm\\n                        TSLATesla, Inc.USDUS88160R10140.001NASDAQ\\n                                2:30 pm to 9:00 pm\\n                        LLOYLloyds Banking Group PLCGBXGB00087061281London Stock Exchange\\n                                8:01 am to 4:30 pm\\n                        '"
      ]
     },
     "execution_count": 7,
     "metadata": {},
     "output_type": "execute_result"
    }
   ],
   "source": [
    "tickers[0].text"
   ]
  },
  {
   "cell_type": "code",
   "execution_count": null,
   "metadata": {},
   "outputs": [],
   "source": []
  },
  {
   "cell_type": "code",
   "execution_count": 8,
   "metadata": {},
   "outputs": [],
   "source": [
    "ticker_list = soup.find_all(\"div\", {\"class\" : \"d-cell js-cell js-acc-activator\"})"
   ]
  },
  {
   "cell_type": "code",
   "execution_count": 9,
   "metadata": {},
   "outputs": [
    {
     "data": {
      "text/plain": [
       "9580"
      ]
     },
     "execution_count": 9,
     "metadata": {},
     "output_type": "execute_result"
    }
   ],
   "source": [
    "trading_212_ticker = []\n",
    "\n",
    "for ticker in ticker_list:\n",
    "    ticker = ticker.text\n",
    "    trading_212_ticker.append(ticker)\n",
    "    \n",
    "len(trading_212_ticker)"
   ]
  },
  {
   "cell_type": "code",
   "execution_count": 10,
   "metadata": {},
   "outputs": [],
   "source": [
    "import get_all_tickers.get_tickers as gt\n",
    "\n",
    "all_tickers = gt.get_tickers()"
   ]
  },
  {
   "cell_type": "code",
   "execution_count": 11,
   "metadata": {},
   "outputs": [],
   "source": [
    "import json\n",
    "n = 0\n",
    "relevant_tickers = []\n",
    "\n",
    "for t in all_tickers:\n",
    "    if t in trading_212_ticker:\n",
    "        n += 1\n",
    "        relevant_tickers.append(t)\n",
    "        \n",
    "mylist = list(set(relevant_tickers))\n",
    "\n",
    "\n",
    "        \n",
    "with open(\"../relevant_trading_212_tickers.json\", \"w\", encoding='utf-8') as f:\n",
    "    json.dump(mylist, f, ensure_ascii=False, indent=4)\n",
    "\n"
   ]
  },
  {
   "cell_type": "code",
   "execution_count": 13,
   "metadata": {},
   "outputs": [
    {
     "data": {
      "text/plain": [
       "4892"
      ]
     },
     "execution_count": 13,
     "metadata": {},
     "output_type": "execute_result"
    }
   ],
   "source": [
    "len(mylist)"
   ]
  },
  {
   "cell_type": "code",
   "execution_count": null,
   "metadata": {},
   "outputs": [],
   "source": []
  }
 ],
 "metadata": {
  "kernelspec": {
   "display_name": "Python 3",
   "language": "python",
   "name": "python3"
  },
  "language_info": {
   "codemirror_mode": {
    "name": "ipython",
    "version": 3
   },
   "file_extension": ".py",
   "mimetype": "text/x-python",
   "name": "python",
   "nbconvert_exporter": "python",
   "pygments_lexer": "ipython3",
   "version": "3.7.6"
  }
 },
 "nbformat": 4,
 "nbformat_minor": 4
}
