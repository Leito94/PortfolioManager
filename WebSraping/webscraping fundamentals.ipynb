{
 "cells": [
  {
   "cell_type": "code",
   "execution_count": 1,
   "metadata": {},
   "outputs": [],
   "source": [
    "from bs4 import BeautifulSoup as bs\n",
    "import requests\n",
    "import re\n",
    "import json\n",
    "import pandas as pd\n",
    "import json\n",
    "import yahoo_fin.stock_info as si"
   ]
  },
  {
   "cell_type": "code",
   "execution_count": 1,
   "metadata": {},
   "outputs": [
    {
     "ename": "NameError",
     "evalue": "name 'requests' is not defined",
     "output_type": "error",
     "traceback": [
      "\u001b[1;31m---------------------------------------------------------------------------\u001b[0m",
      "\u001b[1;31mNameError\u001b[0m                                 Traceback (most recent call last)",
      "\u001b[1;32m<ipython-input-1-a3336066dca2>\u001b[0m in \u001b[0;36m<module>\u001b[1;34m\u001b[0m\n\u001b[0;32m      1\u001b[0m \u001b[0mticker\u001b[0m \u001b[1;33m=\u001b[0m \u001b[1;34m\"AA\"\u001b[0m\u001b[1;33m\u001b[0m\u001b[1;33m\u001b[0m\u001b[0m\n\u001b[0;32m      2\u001b[0m \u001b[0murl\u001b[0m \u001b[1;33m=\u001b[0m \u001b[1;34m\"https://finance.yahoo.com/quote/{}/key-statistics?p={}\"\u001b[0m\u001b[1;33m\u001b[0m\u001b[1;33m\u001b[0m\u001b[0m\n\u001b[1;32m----> 3\u001b[1;33m \u001b[0mresponse\u001b[0m \u001b[1;33m=\u001b[0m \u001b[0mrequests\u001b[0m\u001b[1;33m.\u001b[0m\u001b[0mget\u001b[0m\u001b[1;33m(\u001b[0m\u001b[0murl\u001b[0m\u001b[1;33m.\u001b[0m\u001b[0mformat\u001b[0m\u001b[1;33m(\u001b[0m\u001b[0mticker\u001b[0m\u001b[1;33m,\u001b[0m \u001b[0mticker\u001b[0m\u001b[1;33m)\u001b[0m\u001b[1;33m)\u001b[0m\u001b[1;33m\u001b[0m\u001b[1;33m\u001b[0m\u001b[0m\n\u001b[0m\u001b[0;32m      4\u001b[0m \u001b[0msoup\u001b[0m \u001b[1;33m=\u001b[0m \u001b[0mbs\u001b[0m\u001b[1;33m(\u001b[0m\u001b[0mresponse\u001b[0m\u001b[1;33m.\u001b[0m\u001b[0mtext\u001b[0m\u001b[1;33m,\u001b[0m \u001b[1;34m\"html.parser\"\u001b[0m\u001b[1;33m)\u001b[0m\u001b[1;33m\u001b[0m\u001b[1;33m\u001b[0m\u001b[0m\n\u001b[0;32m      5\u001b[0m \u001b[0mpattern\u001b[0m \u001b[1;33m=\u001b[0m \u001b[0mre\u001b[0m\u001b[1;33m.\u001b[0m\u001b[0mcompile\u001b[0m\u001b[1;33m(\u001b[0m\u001b[1;34mr\"\\s--\\sData\\s--\\s\"\u001b[0m\u001b[1;33m)\u001b[0m\u001b[1;33m\u001b[0m\u001b[1;33m\u001b[0m\u001b[0m\n",
      "\u001b[1;31mNameError\u001b[0m: name 'requests' is not defined"
     ]
    }
   ],
   "source": [
    "ticker = \"AA\"\n",
    "url = \"https://finance.yahoo.com/quote/{}/key-statistics?p={}\"\n",
    "response = requests.get(url.format(ticker, ticker))        \n",
    "soup = bs(response.text, \"html.parser\")\n",
    "pattern = re.compile(r\"\\s--\\sData\\s--\\s\")\n",
    "script_data = soup.find(\"script\", text = pattern).contents[0]\n",
    "start = script_data.find(\"context\")-2\n",
    "json_data = json.loads(script_data[start:-12])\n",
    "shares_outstanding = json_data[\"context\"][\"dispatcher\"][\"stores\"][\"QuoteSummaryStore\"][\"defaultKeyStatistics\"][\"sharesOutstanding\"][\"raw\"]\n",
    "shares_outstanding"
   ]
  },
  {
   "cell_type": "code",
   "execution_count": 3,
   "metadata": {},
   "outputs": [
    {
     "data": {
      "text/plain": [
       "8.326"
      ]
     },
     "execution_count": 3,
     "metadata": {},
     "output_type": "execute_result"
    }
   ],
   "source": [
    "url = \"https://finance.yahoo.com/quote/F/key-statistics?p=F\"\n",
    "response = requests.get(url.format(ticker, ticker))        \n",
    "soup = bs(response.text, \"html.parser\")\n",
    "pattern = re.compile(r\"\\s--\\sData\\s--\\s\")\n",
    "script_data = soup.find(\"script\", text = pattern).contents[0]\n",
    "start = script_data.find(\"context\")-2\n",
    "json_data = json.loads(script_data[start:-12])\n",
    "shares_outstanding = json_data[\"context\"][\"dispatcher\"][\"stores\"][\"QuoteSummaryStore\"][\"defaultKeyStatistics\"][\"bookValue\"][\"raw\"]\n",
    "shares_outstanding"
   ]
  },
  {
   "cell_type": "markdown",
   "metadata": {},
   "source": [
    "### Try to webscrape history total assets, ebit, country"
   ]
  },
  {
   "cell_type": "code",
   "execution_count": 4,
   "metadata": {},
   "outputs": [
    {
     "data": {
      "text/plain": [
       "'Mercedesstrasse 120Stuttgart 70372Germany49 711 170http://www.daimler.com'"
      ]
     },
     "execution_count": 4,
     "metadata": {},
     "output_type": "execute_result"
    }
   ],
   "source": [
    "example = \"https://finance.yahoo.com/quote/DAI.DE/profile?p=DAI.DE\"\n",
    "\n",
    "r = requests.get(example)\n",
    "\n",
    "soup = bs(r.content)\n",
    "info = soup.find_all(\"p\", attrs = {\"class\", \"D(ib) W(47.727%) Pend(40px)\"})\n",
    "info[0].text\n"
   ]
  },
  {
   "cell_type": "code",
   "execution_count": 5,
   "metadata": {},
   "outputs": [],
   "source": [
    "countries = pd.read_excel(\"../countries.xlsx\")"
   ]
  },
  {
   "cell_type": "code",
   "execution_count": 6,
   "metadata": {},
   "outputs": [],
   "source": [
    "country_list = countries.name.to_list()"
   ]
  },
  {
   "cell_type": "code",
   "execution_count": 7,
   "metadata": {},
   "outputs": [],
   "source": [
    "# save as json\n",
    "with open(\"../countries.json\", \"w\") as f:\n",
    "    json.dump(country_list, f, indent=2)"
   ]
  },
  {
   "cell_type": "code",
   "execution_count": 8,
   "metadata": {},
   "outputs": [
    {
     "name": "stdout",
     "output_type": "stream",
     "text": [
      "Germany\n"
     ]
    }
   ],
   "source": [
    "for c in country_list:\n",
    "    if c in info[0].text:\n",
    "        print(c)\n",
    "        break"
   ]
  },
  {
   "cell_type": "markdown",
   "metadata": {},
   "source": [
    "## Assets"
   ]
  },
  {
   "cell_type": "code",
   "execution_count": 9,
   "metadata": {},
   "outputs": [],
   "source": [
    "with open(\"../relevant_trading_212_tickers.json\", \"r\") as f:\n",
    "    relevant_trading_212_tickers = json.load(f)"
   ]
  },
  {
   "cell_type": "code",
   "execution_count": null,
   "metadata": {},
   "outputs": [],
   "source": [
    "op_data = pd.DataFrame()\n",
    "\n",
    "for ticker in relevant_trading_212_tickers[:1000]:\n",
    "    try:\n",
    "        \n",
    "\n",
    "        ticker_df = pd.DataFrame({\n",
    "            #\"totalAssets\",\"common_stock\" : si.get_balance_sheet(ticker, yearly=False).loc[[\"totalAssets\", \"commonStock\"]],\n",
    "            \"operating_income\" : si.get_income_statement(ticker, yearly=False).loc[\"operatingIncome\"],\n",
    "            \"ticker\" : ticker\n",
    "        })\n",
    "        op_data = op_data.append(ticker_df)\n",
    "    except:\n",
    "        pass\n",
    "\n"
   ]
  },
  {
   "cell_type": "code",
   "execution_count": null,
   "metadata": {},
   "outputs": [],
   "source": [
    "op_data"
   ]
  },
  {
   "cell_type": "code",
   "execution_count": 66,
   "metadata": {},
   "outputs": [],
   "source": [
    "at_data = pd.DataFrame()\n",
    "\n",
    "for ticker in relevant_trading_212_tickers[:1000]:\n",
    "    try:\n",
    "        \n",
    "\n",
    "        ticker_df = pd.DataFrame({\n",
    "            \"totalAssets\" : si.get_balance_sheet(ticker, yearly=False).loc[\"totalAssets\"],\n",
    "            \"ticker\" : ticker\n",
    "        })\n",
    "        at_data = at_data.append(ticker_df)\n",
    "    except:\n",
    "        pass"
   ]
  },
  {
   "cell_type": "code",
   "execution_count": 68,
   "metadata": {},
   "outputs": [
    {
     "data": {
      "text/html": [
       "<div>\n",
       "<style scoped>\n",
       "    .dataframe tbody tr th:only-of-type {\n",
       "        vertical-align: middle;\n",
       "    }\n",
       "\n",
       "    .dataframe tbody tr th {\n",
       "        vertical-align: top;\n",
       "    }\n",
       "\n",
       "    .dataframe thead th {\n",
       "        text-align: right;\n",
       "    }\n",
       "</style>\n",
       "<table border=\"1\" class=\"dataframe\">\n",
       "  <thead>\n",
       "    <tr style=\"text-align: right;\">\n",
       "      <th></th>\n",
       "      <th>common_stock</th>\n",
       "      <th>ticker</th>\n",
       "    </tr>\n",
       "    <tr>\n",
       "      <th>endDate</th>\n",
       "      <th></th>\n",
       "      <th></th>\n",
       "    </tr>\n",
       "  </thead>\n",
       "  <tbody>\n",
       "    <tr>\n",
       "      <th>2020-09-30</th>\n",
       "      <td>3.513000e+06</td>\n",
       "      <td>EMCF</td>\n",
       "    </tr>\n",
       "    <tr>\n",
       "      <th>2020-06-30</th>\n",
       "      <td>3.513000e+06</td>\n",
       "      <td>EMCF</td>\n",
       "    </tr>\n",
       "    <tr>\n",
       "      <th>2020-03-31</th>\n",
       "      <td>3.513000e+06</td>\n",
       "      <td>EMCF</td>\n",
       "    </tr>\n",
       "    <tr>\n",
       "      <th>2019-12-31</th>\n",
       "      <td>3.513000e+06</td>\n",
       "      <td>EMCF</td>\n",
       "    </tr>\n",
       "    <tr>\n",
       "      <th>2020-09-30</th>\n",
       "      <td>3.800000e+04</td>\n",
       "      <td>AEIS</td>\n",
       "    </tr>\n",
       "    <tr>\n",
       "      <th>...</th>\n",
       "      <td>...</td>\n",
       "      <td>...</td>\n",
       "    </tr>\n",
       "    <tr>\n",
       "      <th>2019-12-31</th>\n",
       "      <td>4.005000e+09</td>\n",
       "      <td>E</td>\n",
       "    </tr>\n",
       "    <tr>\n",
       "      <th>2020-07-31</th>\n",
       "      <td>1.400000e+07</td>\n",
       "      <td>HPQ</td>\n",
       "    </tr>\n",
       "    <tr>\n",
       "      <th>2020-04-30</th>\n",
       "      <td>1.400000e+07</td>\n",
       "      <td>HPQ</td>\n",
       "    </tr>\n",
       "    <tr>\n",
       "      <th>2020-01-31</th>\n",
       "      <td>1.400000e+07</td>\n",
       "      <td>HPQ</td>\n",
       "    </tr>\n",
       "    <tr>\n",
       "      <th>2019-10-31</th>\n",
       "      <td>1.500000e+07</td>\n",
       "      <td>HPQ</td>\n",
       "    </tr>\n",
       "  </tbody>\n",
       "</table>\n",
       "<p>156 rows × 2 columns</p>\n",
       "</div>"
      ],
      "text/plain": [
       "            common_stock ticker\n",
       "endDate                        \n",
       "2020-09-30  3.513000e+06   EMCF\n",
       "2020-06-30  3.513000e+06   EMCF\n",
       "2020-03-31  3.513000e+06   EMCF\n",
       "2019-12-31  3.513000e+06   EMCF\n",
       "2020-09-30  3.800000e+04   AEIS\n",
       "...                  ...    ...\n",
       "2019-12-31  4.005000e+09      E\n",
       "2020-07-31  1.400000e+07    HPQ\n",
       "2020-04-30  1.400000e+07    HPQ\n",
       "2020-01-31  1.400000e+07    HPQ\n",
       "2019-10-31  1.500000e+07    HPQ\n",
       "\n",
       "[156 rows x 2 columns]"
      ]
     },
     "execution_count": 68,
     "metadata": {},
     "output_type": "execute_result"
    }
   ],
   "source": [
    "so_data = pd.DataFrame()\n",
    "\n",
    "for ticker in relevant_trading_212_tickers[:1000]:\n",
    "    try:\n",
    "        \n",
    "\n",
    "        ticker_df = pd.DataFrame({\n",
    "            \"common_stock\" : si.get_balance_sheet(ticker, yearly=False).loc[\"commonStock\"],\n",
    "            \"ticker\" : ticker\n",
    "        })\n",
    "        so_data = so_data.append(ticker_df)\n",
    "    except:\n",
    "        pass\n",
    "    \n",
    "so_data"
   ]
  },
  {
   "cell_type": "code",
   "execution_count": 69,
   "metadata": {},
   "outputs": [
    {
     "data": {
      "text/plain": [
       "4892"
      ]
     },
     "execution_count": 69,
     "metadata": {},
     "output_type": "execute_result"
    }
   ],
   "source": [
    "len(relevant_trading_212_tickers)"
   ]
  },
  {
   "cell_type": "code",
   "execution_count": null,
   "metadata": {},
   "outputs": [],
   "source": []
  }
 ],
 "metadata": {
  "kernelspec": {
   "display_name": "Python 3",
   "language": "python",
   "name": "python3"
  },
  "language_info": {
   "codemirror_mode": {
    "name": "ipython",
    "version": 3
   },
   "file_extension": ".py",
   "mimetype": "text/x-python",
   "name": "python",
   "nbconvert_exporter": "python",
   "pygments_lexer": "ipython3",
   "version": "3.7.6"
  }
 },
 "nbformat": 4,
 "nbformat_minor": 4
}
